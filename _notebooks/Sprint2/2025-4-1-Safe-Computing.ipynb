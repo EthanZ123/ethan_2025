{
 "cells": [
  {
   "cell_type": "markdown",
   "metadata": {},
   "source": [
    "---\n",
    "layout: post \n",
    "title: Digital Divide HW\n",
    "description: DIgital Divide HW\n",
    "courses: {csp: {week: 1} }\n",
    "comments: true \n",
    "sticky_rank: 1 \n",
    "---"
   ]
  },
  {
   "cell_type": "markdown",
   "metadata": {},
   "source": [
    "## Notes \n",
    "\n",
    "Prevent data getting stolen with encryption, authentication, data minimization, regular security updates, access control, inque passwords, and compliance with regulations. Multi Factor authentications: Requires users to verify their identity using multiple authentication factors. Strong passwords: easy for the user to rememeber but difficult for others to guess: Use at least 16 characters and a variety of numbers and symbols. Important to use different passwords for every website. Examples of MFA, knowledge, posession, inherence. Public key for encryption and private key for decryption. When you receieve information and you're trying to decode it, it is example of private key and other people cannot see information being sent. Keep softwares updated frequently. Users should control the permissions that applications have to protect their privacy. Phishing is a technique that attemps to trick a user into providing personal information. That personal information can then be used to access sensitive online resources. Keylogging - the use of a program to record every keystroke made by a computer user in order to gain fraudulent access to passwords and other confidential information. Data interception - data sent over public networks can be intercepted, analyzed, and modified. One way that this can happen is through rogue access. Rogue access point is a wireless access point that gives unauthorized access to secure networks. Malicious links can be disguised on a web page or in an email message. Malicious emails are unsolicited emails, attachments, links, and forms in emails can be used to compromise the security of a comuting system. These can come from unknown senders or from known senders whose security has been compromised. Freeware is untrustworthy downloads from freeware of shareware sites. \n",
    "\n",
    "## Popcorn Hack #1\n",
    "\n",
    "A - Fingerprint \n",
    "\n",
    "## Popcorn Hack #2\n",
    "\n",
    "D - A username required to log in \n",
    "A - A password used to log into an email account \n",
    "\n",
    "## Popcorn Hack #3\n",
    "\n",
    "B - Finn and Gwen develop a system that maps each letter of the alphabet to a unique symbol using a secret key. Finn uses to write a key to write a message to Gwen where each letter is replaced with the corresponding symbol. Gwen uses the key to map each symbol back to the original letter. \n",
    "\n",
    "## Popcorn Hack #4\n",
    "\n",
    "16 characters or above, numbers and symbols, capitalization, randomization. "
   ]
  }
 ],
 "metadata": {
  "language_info": {
   "name": "python"
  }
 },
 "nbformat": 4,
 "nbformat_minor": 2
}
