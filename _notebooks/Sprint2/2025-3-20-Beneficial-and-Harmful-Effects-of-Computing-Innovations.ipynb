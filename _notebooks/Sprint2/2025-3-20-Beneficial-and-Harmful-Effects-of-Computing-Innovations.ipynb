{
 "cells": [
  {
   "cell_type": "code",
   "execution_count": null,
   "metadata": {
    "vscode": {
     "languageId": "yaml"
    }
   },
   "outputs": [],
   "source": [
    "---\n",
    "layout: post \n",
    "title: Beneficial and Harmful Effects of Computing Innovations Popcorn and Homework Hacks \n",
    "description: Beneficial and Harmful Effects of Computing Innovations Popcorn and Homework Hacks. \n",
    "courses: {csp: {week: 1} }\n",
    "comments: true \n",
    "sticky_rank: 1 \n",
    "---"
   ]
  },
  {
   "cell_type": "markdown",
   "metadata": {},
   "source": [
    "## Popcorn Hack #1"
   ]
  },
  {
   "cell_type": "markdown",
   "metadata": {},
   "source": [
    "Technology can have both positive and negative impacts as it can improve quality of life and efficiency in daily tasks, while also provide ethical concerns and social challenges. \n",
    "\n",
    "Positive Example: It connects people globally and provides a platform for voices that otherwise go unheard. \n",
    "Negative Example: AI has recently led to job displacements in liberal arts industries. "
   ]
  },
  {
   "cell_type": "markdown",
   "metadata": {},
   "source": [
    "## Popcorn Hack #2 "
   ]
  },
  {
   "cell_type": "markdown",
   "metadata": {},
   "source": [
    "The meaning of negative effects of technology is the use of modern technology as a source of harm. Responsible coding can mitigate the unintended harmful impacts by establishing restrictions and limitations that prevent exploitation of modern resources. "
   ]
  },
  {
   "cell_type": "markdown",
   "metadata": {},
   "source": [
    "## Popcorn Hack #3"
   ]
  },
  {
   "cell_type": "markdown",
   "metadata": {},
   "source": [
    "It is important to understand the unintended consequences of technology because it is a crucial step in avoiding these consequences in the future. "
   ]
  },
  {
   "cell_type": "markdown",
   "metadata": {},
   "source": [
    "## Homework Hacks"
   ]
  },
  {
   "cell_type": "markdown",
   "metadata": {},
   "source": [
    "### #1\n",
    "AI technology: Self-driving cars \n",
    "Research: Intended use to supplement human labor. They serving as autonomous buses or shuttles to improve public transit systems as well as provide people with normal modes of transportation\n",
    "New Use: Self-driving cars can also be used as mobile delivery vehicles, providing automatic delivery. This will be instrumental in lessening the labor of the work force for online brands that often deliver their goods with real people. \n",
    "Impact: Self driving cars could be essential for people with disabilities and provide overall people with an easy method of transportation hands free. Two risks would be accidental system errors that could result in a crash. The other one comes with human morality and the concern that people will become too dependent on these technologies. "
   ]
  },
  {
   "cell_type": "markdown",
   "metadata": {},
   "source": [
    "### #2\n",
    "\n",
    "Steps to Complete\n",
    "Identify a Problem – A problem With AI is that there is often a displacement of jobs with people in the liberal arts field. Their jobs are often being threatened because the constant output of material can be detrimental to human ingenuity and creativity. \n",
    "Describe the Risk – This creates a problem with society because it devalues real human creativity and values cheap content over soulful artworks. Terminally, this could result in demoralizing artwork and the position of artists in this society. \n",
    "Propose Two Solutions – Companies should restrict the uses of AI when it comes to artwork. Instead of it being accessible to the majority, it should be restricted to only people with sufficient licenses. Another soltuion to AI would be to value human art work more than AI\n",
    "Write a Short Reflection (3-5 sentences) – Ethical AI development is important because it would mean that our society can coexist with AI, rather than become dominated by an AI culture. If the latter happens, our society maylack ingenuity and enough artists to express creativity. The difference between AI and humans are the aspects of originiality. If something is not done to restrict AI, and since AI cannot develop new ideas on its own, it makes human artwork ever more valuable. "
   ]
  },
  {
   "cell_type": "markdown",
   "metadata": {},
   "source": [
    "### #3\n",
    "\n",
    "1. Find an Example\n",
    "An example is Amazon's AI recruiting tool.\n",
    "\n",
    "2. Summarize What Happened\n",
    "Amazon developed an AI-based recruiting tool to make the hiring process more efficient by analyzing resumes and recommending top candidates.\n",
    "\n",
    "Issue: The AI system was found to be biased against women. It penalized resumes that included terms like \"women's chess club captain\" or any reference to women’s colleges, as it had been trained on past hiring data that reflected male dominance in technical roles.\n",
    "\n",
    "3. Evaluate the Response\n",
    "Amazon eventualyl scrapped the idea when they identified the bias, and recognizing it made them realize that it couldn't have fair hiring practices. \n",
    "\n",
    "\n",
    "4. Propose a Preventative Measure\n",
    "\n",
    "Using diverse and unbiased training datasets to prevent the AI from inheriting discriminatory patterns.\n",
    "Implementing bias-detection mechanisms during development to identify potential biases early.\n",
    "Including diverse teams of developers and testers to bring different perspectives to the design and testing process."
   ]
  },
  {
   "cell_type": "markdown",
   "metadata": {},
   "source": []
  }
 ],
 "metadata": {
  "language_info": {
   "name": "python"
  }
 },
 "nbformat": 4,
 "nbformat_minor": 2
}
