{
 "cells": [
  {
   "cell_type": "markdown",
   "metadata": {},
   "source": [
    "---\n",
    "layout: post \n",
    "title: 3.2 Homework Hacks \n",
    "description: Homework Hacks\n",
    "courses: {csp: {week: 1} }\n",
    "comments: true \n",
    "sticky_rank: 1 \n",
    "---"
   ]
  },
  {
   "cell_type": "code",
   "execution_count": 2,
   "metadata": {},
   "outputs": [
    {
     "name": "stdout",
     "output_type": "stream",
     "text": [
      "{'name': 'Ethan', 'age': 15, 'city': 'San Diego', 'favorite_color': 'Blue'}\n"
     ]
    }
   ],
   "source": [
    "\n",
    "name = \"Ethan\"\n",
    "age = 15\n",
    "city = \"San Diego\"\n",
    "favorite_color = \"Blue\"\n",
    "\n",
    "# Create the dictionary\n",
    "profile = {\n",
    "    \"name\": name,\n",
    "    \"age\": age,\n",
    "    \"city\": city,\n",
    "    \"favorite_color\": favorite_color\n",
    "}\n",
    "\n",
    "print(profile)\n"
   ]
  },
  {
   "cell_type": "code",
   "execution_count": 3,
   "metadata": {},
   "outputs": [
    {
     "name": "stdout",
     "output_type": "stream",
     "text": [
      "['reading', 'hiking', 'painting']\n"
     ]
    }
   ],
   "source": [
    "\n",
    "hobbies = [\"reading\", \"hiking\", \"painting\"]\n",
    "\n",
    "\n",
    "print(hobbies)\n"
   ]
  },
  {
   "cell_type": "code",
   "execution_count": 4,
   "metadata": {},
   "outputs": [
    {
     "name": "stdout",
     "output_type": "stream",
     "text": [
      "{'name': 'Ethan', 'age': 15, 'city': 'San Diego', 'favorite_color': 'Blue', 'hobbies': ['reading', 'hiking', 'painting']}\n"
     ]
    }
   ],
   "source": [
    "# Existing profile dictionary\n",
    "profile = {\n",
    "    \"name\": \"Ethan\",\n",
    "    \"age\": 15,\n",
    "    \"city\": \"San Diego\",\n",
    "    \"favorite_color\": \"Blue\"\n",
    "}\n",
    "\n",
    "# Create the hobbies list\n",
    "hobbies = [\"reading\", \"hiking\", \"painting\"]\n",
    "\n",
    "# Add the hobbies list to the profile dictionary\n",
    "profile[\"hobbies\"] = hobbies\n",
    "\n",
    "# Print the updated profile dictionary\n",
    "print(profile)\n"
   ]
  },
  {
   "cell_type": "code",
   "execution_count": 5,
   "metadata": {},
   "outputs": [
    {
     "name": "stdout",
     "output_type": "stream",
     "text": [
      "Is hiking available today? True\n"
     ]
    }
   ],
   "source": [
    "\n",
    "chosen_hobby = \"hiking\"\n",
    "\n",
    "\n",
    "has_hobby = True  \n",
    "\n",
    "print(f\"Is {chosen_hobby} available today? {has_hobby}\")\n"
   ]
  },
  {
   "cell_type": "code",
   "execution_count": 6,
   "metadata": {},
   "outputs": [
    {
     "name": "stdout",
     "output_type": "stream",
     "text": [
      "I have 3 hobbies.\n"
     ]
    }
   ],
   "source": [
    "\n",
    "hobbies = [\"reading\", \"hiking\", \"painting\"]\n",
    "\n",
    "\n",
    "total_hobbies = len(hobbies)\n",
    "\n",
    "print(f\"I have {total_hobbies} hobbies.\")\n"
   ]
  },
  {
   "cell_type": "code",
   "execution_count": 8,
   "metadata": {},
   "outputs": [
    {
     "name": "stdout",
     "output_type": "stream",
     "text": [
      "('reading', 'hiking')\n"
     ]
    }
   ],
   "source": [
    "\n",
    "favorite_hobbies = (\"reading\", \"hiking\")\n",
    "\n",
    "print(favorite_hobbies)\n"
   ]
  },
  {
   "cell_type": "code",
   "execution_count": 7,
   "metadata": {},
   "outputs": [
    {
     "name": "stdout",
     "output_type": "stream",
     "text": [
      "{'creativity', 'communication', 'problem-solving'}\n"
     ]
    }
   ],
   "source": [
    "skills = {\"communication\", \"problem-solving\", \"creativity\"}\n",
    "print(skills)"
   ]
  },
  {
   "cell_type": "code",
   "execution_count": 9,
   "metadata": {},
   "outputs": [
    {
     "name": "stdout",
     "output_type": "stream",
     "text": [
      "None\n"
     ]
    }
   ],
   "source": [
    "new_skill = None\n",
    "print(new_skill)\n"
   ]
  },
  {
   "cell_type": "code",
   "execution_count": 10,
   "metadata": {},
   "outputs": [
    {
     "name": "stdout",
     "output_type": "stream",
     "text": [
      "45\n"
     ]
    }
   ],
   "source": [
    "hobbies = [\"reading\", \"hiking\", \"painting\"]\n",
    "skills = {\"communication\", \"problem-solving\", \"creativity\"}\n",
    "\n",
    "total_cost = (len(hobbies) * 5) + (len(skills) * 10)\n",
    "print(total_cost)\n"
   ]
  }
 ],
 "metadata": {
  "kernelspec": {
   "display_name": "venv",
   "language": "python",
   "name": "python3"
  },
  "language_info": {
   "codemirror_mode": {
    "name": "ipython",
    "version": 3
   },
   "file_extension": ".py",
   "mimetype": "text/x-python",
   "name": "python",
   "nbconvert_exporter": "python",
   "pygments_lexer": "ipython3",
   "version": "3.12.5"
  }
 },
 "nbformat": 4,
 "nbformat_minor": 2
}
