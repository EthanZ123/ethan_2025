{
 "cells": [
  {
   "cell_type": "markdown",
   "metadata": {},
   "source": [
    "---\n",
    "layout: post \n",
    "title: 3.10 Homework Hacks \n",
    "description: Homework Hacks\n",
    "courses: {csp: {week: 1} }\n",
    "comments: true \n",
    "sticky_rank: 1 \n",
    "---"
   ]
  },
  {
   "cell_type": "code",
   "execution_count": 3,
   "metadata": {},
   "outputs": [
    {
     "name": "stdout",
     "output_type": "stream",
     "text": [
      "Current list:\n",
      "[42, 'hello', 3.14, True, None, 'Python', 99]\n",
      "Removed item: None\n",
      "Updated list:\n",
      "[42, 'hello', 3.14, True, 'Python', 99]\n"
     ]
    }
   ],
   "source": [
    "# Initial list with various data values\n",
    "data_list = [42, \"hello\", 3.14, True, None, \"Python\", 99]\n",
    "\n",
    "# Display the initial list\n",
    "print(\"Current list:\")\n",
    "print(data_list)\n",
    "\n",
    "# Allow user to input an index\n",
    "try:\n",
    "    index = int(input(\"Enter an index to remove the item (0 to {}): \".format(len(data_list) - 1)))\n",
    "\n",
    "    # Check if the index is within the valid range\n",
    "    if 0 <= index < len(data_list):\n",
    "        # Remove the item at the specified index\n",
    "        removed_item = data_list.pop(index)\n",
    "        print(f\"Removed item: {removed_item}\")\n",
    "    else:\n",
    "        print(\"Error: Index out of range.\")\n",
    "\n",
    "except ValueError:\n",
    "    print(\"Error: Please enter a valid integer.\")\n",
    "except Exception as e:\n",
    "    print(f\"An error occurred: {e}\")\n",
    "\n",
    "# Display the updated list\n",
    "print(\"Updated list:\")\n",
    "print(data_list)\n"
   ]
  },
  {
   "cell_type": "code",
   "execution_count": 4,
   "metadata": {},
   "outputs": [
    {
     "name": "stdout",
     "output_type": "stream",
     "text": [
      "Sum of even numbers: 240\n",
      "Sum of odd numbers: 225\n"
     ]
    }
   ],
   "source": [
    "# Step 1: Initialize an empty list called numbers\n",
    "numbers = []\n",
    "\n",
    "# Step 2: Populate the list with numbers from 1 to 30\n",
    "for i in range(1, 31):\n",
    "    numbers.append(i)\n",
    "\n",
    "# Step 3: Initialize sum_even and sum_odd\n",
    "sum_even = 0\n",
    "sum_odd = 0\n",
    "\n",
    "# Step 4: Calculate sums of even and odd numbers\n",
    "for number in numbers:\n",
    "    if number % 2 == 0:  # Check if the number is even\n",
    "        sum_even += number\n",
    "    else:  # Otherwise, the number is odd\n",
    "        sum_odd += number\n",
    "\n",
    "# Step 5: Print the results\n",
    "print(\"Sum of even numbers:\", sum_even)\n",
    "print(\"Sum of odd numbers:\", sum_odd)\n"
   ]
  },
  {
   "cell_type": "code",
   "execution_count": 6,
   "metadata": {},
   "outputs": [
    {
     "name": "stdout",
     "output_type": "stream",
     "text": [
      "My favorite hobby is: Reading\n",
      "My favorite hobby is: Hiking\n",
      "My favorite hobby is: Sleeping\n",
      "My favorite hobby is: Gaming\n",
      "My favorite hobby is: Soccor\n"
     ]
    }
   ],
   "source": [
    "# List of favorite hobbies\n",
    "hobbies = [\"Reading\", \"Hiking\", \"Sleeping\", \"Gaming\", \"Soccor\"]\n",
    "\n",
    "# Loop through each hobby and print it\n",
    "for hobby in hobbies:\n",
    "    print(f\"My favorite hobby is: {hobby}\")\n"
   ]
  },
  {
   "cell_type": "code",
   "execution_count": 8,
   "metadata": {},
   "outputs": [
    {
     "name": "stdout",
     "output_type": "stream",
     "text": [
      "Question: Do you like coffee?\n",
      "Answer: Yes\n",
      "\n",
      "Question: Is Python your favorite language?\n",
      "Answer: No\n",
      "\n"
     ]
    }
   ],
   "source": [
    "# Create a list of questions and their answers\n",
    "qa_list = [\n",
    "    {\"question\": \"Do you like coffee?\", \"answer\": \"Yes\"},\n",
    "    {\"question\": \"Is Python your favorite language?\", \"answer\": \"No\"}\n",
    "]\n",
    "\n",
    "# Loop through each question-answer pair and print them\n",
    "for qa in qa_list:\n",
    "    print(f\"Question: {qa['question']}\")\n",
    "    print(f\"Answer: {qa['answer']}\\n\")\n"
   ]
  }
 ],
 "metadata": {
  "kernelspec": {
   "display_name": "venv",
   "language": "python",
   "name": "python3"
  },
  "language_info": {
   "codemirror_mode": {
    "name": "ipython",
    "version": 3
   },
   "file_extension": ".py",
   "mimetype": "text/x-python",
   "name": "python",
   "nbconvert_exporter": "python",
   "pygments_lexer": "ipython3",
   "version": "3.12.5"
  }
 },
 "nbformat": 4,
 "nbformat_minor": 2
}
