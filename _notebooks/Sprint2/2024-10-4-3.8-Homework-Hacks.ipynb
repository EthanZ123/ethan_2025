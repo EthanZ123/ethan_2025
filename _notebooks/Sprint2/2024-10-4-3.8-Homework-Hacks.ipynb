{
 "cells": [
  {
   "cell_type": "markdown",
   "metadata": {},
   "source": [
    "---\n",
    "layout: post \n",
    "title: 3.8 Homework Hacks \n",
    "description: Homework Hacks\n",
    "courses: {csp: {week: 1} }\n",
    "comments: true \n",
    "sticky_rank: 1 \n",
    "---"
   ]
  },
  {
   "cell_type": "code",
   "execution_count": 3,
   "metadata": {},
   "outputs": [
    {
     "name": "stdout",
     "output_type": "stream",
     "text": [
      "name Ethan\n",
      "age 15\n",
      "Ethan\n",
      "15\n",
      "name Ethan\n",
      "age 15\n"
     ]
    }
   ],
   "source": [
    "\n",
    "person = {'name': 'Ethan', 'age': 15}\n",
    "\n",
    "# Looping through keys\n",
    "for key in person:\n",
    "    print(key, person[key])\n",
    "\n",
    "# Looping through values\n",
    "for value in person.values():\n",
    "    print(value)\n",
    "\n",
    "# Looping through keys and values\n",
    "for key, value in person.items():\n",
    "    print(key, value)\n"
   ]
  },
  {
   "cell_type": "code",
   "execution_count": 5,
   "metadata": {
    "vscode": {
     "languageId": "javascript"
    }
   },
   "outputs": [
    {
     "data": {
      "application/javascript": "for (let i = 1; i <= 5; i++) {\n    console.log(i);\n}\n",
      "text/plain": [
       "<IPython.core.display.Javascript object>"
      ]
     },
     "metadata": {},
     "output_type": "display_data"
    }
   ],
   "source": [
    "%%javascript\n",
    "for (let i = 1; i <= 5; i++) {\n",
    "    console.log(i);\n",
    "}"
   ]
  },
  {
   "cell_type": "code",
   "execution_count": 7,
   "metadata": {},
   "outputs": [
    {
     "name": "stdout",
     "output_type": "stream",
     "text": [
      "Buzz\n",
      "51\n",
      "Fizz\n",
      "53\n",
      "54\n",
      "Buzz\n",
      "FizzBoom\n",
      "57\n",
      "58\n",
      "59\n",
      "FizzBuzz\n",
      "61\n",
      "62\n",
      "Boom\n",
      "Fizz\n",
      "Buzz\n",
      "66\n",
      "67\n",
      "Fizz\n",
      "69\n",
      "BuzzBoom\n",
      "71\n",
      "Fizz\n",
      "73\n",
      "74\n",
      "Buzz\n",
      "Fizz\n",
      "Boom\n",
      "78\n",
      "79\n",
      "FizzBuzz\n",
      "81\n",
      "82\n",
      "83\n",
      "FizzBoom\n",
      "Buzz\n",
      "86\n",
      "87\n",
      "Fizz\n",
      "89\n",
      "Buzz\n",
      "Boom\n",
      "Fizz\n",
      "93\n",
      "94\n",
      "Buzz\n",
      "Fizz\n",
      "97\n",
      "Boom\n",
      "99\n",
      "FizzBuzz\n"
     ]
    }
   ],
   "source": [
    "# Initialize the starting point\n",
    "number = 50\n",
    "\n",
    "# Use a while loop to iterate from 50 to 100\n",
    "while number <= 100:\n",
    "    output = \"\"\n",
    "\n",
    "    # Check the conditions and build the output string\n",
    "    if number % 4 == 0:   # Multiples of 4\n",
    "        output += \"Fizz\"\n",
    "    if number % 5 == 0:   # Multiples of 5\n",
    "        output += \"Buzz\"\n",
    "    if number % 7 == 0:   # Multiples of 7\n",
    "        output += \"Boom\"\n",
    "    \n",
    "    # Print the output or the number if no conditions are met\n",
    "    if output:\n",
    "        print(output)\n",
    "    else:\n",
    "        print(number)\n",
    "\n",
    "    # Increment the number\n",
    "    number += 1\n"
   ]
  },
  {
   "cell_type": "code",
   "execution_count": 8,
   "metadata": {},
   "outputs": [
    {
     "name": "stdout",
     "output_type": "stream",
     "text": [
      "Incorrect credentials. You have 2 attempts left.\n",
      "Login successful!\n"
     ]
    }
   ],
   "source": [
    "# Predefined username and password\n",
    "correct_username = \"user\"\n",
    "correct_password = \"pass\"\n",
    "\n",
    "# Maximum number of attempts\n",
    "max_attempts = 3\n",
    "attempts = 0\n",
    "\n",
    "# Simulating a do-while loop\n",
    "while True:\n",
    "    # Prompt user for credentials\n",
    "    username = input(\"Enter username: \")\n",
    "    password = input(\"Enter password: \")\n",
    "\n",
    "    # Check if credentials are correct\n",
    "    if username == correct_username and password == correct_password:\n",
    "        print(\"Login successful!\")\n",
    "        break  # Exit the loop on success\n",
    "    else:\n",
    "        attempts += 1\n",
    "        remaining_attempts = max_attempts - attempts\n",
    "        if remaining_attempts > 0:\n",
    "            print(f\"Incorrect credentials. You have {remaining_attempts} attempts left.\")\n",
    "        else:\n",
    "            print(\"Account locked due to too many failed attempts.\")\n",
    "            break  # Exit the loop after 3 attempts\n"
   ]
  },
  {
   "cell_type": "code",
   "execution_count": 9,
   "metadata": {},
   "outputs": [
    {
     "name": "stdout",
     "output_type": "stream",
     "text": [
      "1. Buy groceries\n",
      "2. Walk the dog\n",
      "3. Complete Python project\n",
      "4. Read a book\n",
      "5. Prepare for the meeting\n"
     ]
    }
   ],
   "source": [
    "# Step 1: Define your tasks\n",
    "tasks = [\n",
    "    \"Buy groceries\",\n",
    "    \"Walk the dog\",\n",
    "    \"Complete Python project\",\n",
    "    \"Read a book\",\n",
    "    \"Prepare for the meeting\"\n",
    "]\n",
    "\n",
    "# Step 2: Create a display function\n",
    "def display_tasks(task_list):\n",
    "    for index, task in enumerate(task_list):\n",
    "        print(f\"{index + 1}. {task}\")\n",
    "\n",
    "# Step 3: Call the function to display your tasks\n",
    "display_tasks(tasks)\n"
   ]
  },
  {
   "cell_type": "code",
   "execution_count": 11,
   "metadata": {
    "vscode": {
     "languageId": "javascript"
    }
   },
   "outputs": [
    {
     "data": {
      "application/javascript": "const tasks = [\n    \"Buy groceries\",\n    \"Walk the dog\",\n    \"Complete Java project\",\n    \"Read a book\",\n    \"Prepare for the meeting\"\n];\n\n// Step 2: Create a display function\nfunction displayTasks(taskList) {\n    taskList.forEach((task, index) => {\n        console.log(`${index + 1}. ${task}`);\n    });\n}\n\n// Step 3: Call the function to display your tasks\ndisplayTasks(tasks);\n",
      "text/plain": [
       "<IPython.core.display.Javascript object>"
      ]
     },
     "metadata": {},
     "output_type": "display_data"
    }
   ],
   "source": [
    "%%javascript\n",
    "const tasks = [\n",
    "    \"Buy groceries\",\n",
    "    \"Walk the dog\",\n",
    "    \"Complete Java project\",\n",
    "    \"Read a book\",\n",
    "    \"Prepare for the meeting\"\n",
    "];\n",
    "\n",
    "// Step 2: Create a display function\n",
    "function displayTasks(taskList) {\n",
    "    taskList.forEach((task, index) => {\n",
    "        console.log(`${index + 1}. ${task}`);\n",
    "    });\n",
    "}\n",
    "\n",
    "// Step 3: Call the function to display your tasks\n",
    "displayTasks(tasks);\n"
   ]
  },
  {
   "cell_type": "code",
   "execution_count": 12,
   "metadata": {
    "vscode": {
     "languageId": "javascript"
    }
   },
   "outputs": [
    {
     "data": {
      "application/javascript": "let num = 0;\n\nwhile (true) {\n    console.log(num); // Print the current number\n\n    // Check if the number is greater than or equal to 20\n    if (num >= 20) {\n        break; // Exit the loop if the condition is met\n    }\n\n    num += 2; // Increment the number by 2\n}\n",
      "text/plain": [
       "<IPython.core.display.Javascript object>"
      ]
     },
     "metadata": {},
     "output_type": "display_data"
    }
   ],
   "source": [
    "%%javascript\n",
    "let num = 0;\n",
    "\n",
    "while (true) {\n",
    "    console.log(num); // Print the current number\n",
    "\n",
    "    // Check if the number is greater than or equal to 20\n",
    "    if (num >= 20) {\n",
    "        break; // Exit the loop if the condition is met\n",
    "    }\n",
    "\n",
    "    num += 2; // Increment the number by 2\n",
    "}\n"
   ]
  },
  {
   "cell_type": "code",
   "execution_count": null,
   "metadata": {},
   "outputs": [],
   "source": [
    "# Loop through numbers from 0 to 9\n",
    "for num in range(10):\n",
    "    # Skip the number 5\n",
    "    if num == 5:\n",
    "        continue\n",
    "    # Print the message with the number\n",
    "    print(f\"This number is {num}\")\n"
   ]
  }
 ],
 "metadata": {
  "kernelspec": {
   "display_name": "venv",
   "language": "python",
   "name": "python3"
  },
  "language_info": {
   "codemirror_mode": {
    "name": "ipython",
    "version": 3
   },
   "file_extension": ".py",
   "mimetype": "text/x-python",
   "name": "python",
   "nbconvert_exporter": "python",
   "pygments_lexer": "ipython3",
   "version": "3.12.5"
  }
 },
 "nbformat": 4,
 "nbformat_minor": 2
}
