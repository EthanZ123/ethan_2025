{
 "cells": [
  {
   "cell_type": "markdown",
   "metadata": {},
   "source": [
    "---\n",
    "layout: post \n",
    "title: Crowdsourcing  \n",
    "description: Crowdsourcing\n",
    "courses: {csp: {week: 1} }\n",
    "comments: true \n",
    "sticky_rank: 1 \n",
    "---"
   ]
  },
  {
   "cell_type": "markdown",
   "metadata": {},
   "source": [
    "# Crowdsourcing "
   ]
  },
  {
   "cell_type": "markdown",
   "metadata": {},
   "source": [
    "## Popcorn Hack 1 \n",
    "\n",
    "N/A"
   ]
  },
  {
   "cell_type": "markdown",
   "metadata": {},
   "source": [
    "## Popcorn Hack 2 \n",
    "\n",
    "N/A"
   ]
  },
  {
   "cell_type": "markdown",
   "metadata": {},
   "source": [
    "## Popcorn Hack 3 \n",
    "\n",
    "A commonly known crowdsourcing app is Uber. It relies on drivers, which are crowdsourcing individuals, to provide ride-sharing services, connecting them with passengers via the app. Both drivers and passengers contribute to the system by sharing feedback and ratings, which helps improve the overall service."
   ]
  },
  {
   "cell_type": "markdown",
   "metadata": {},
   "source": [
    "## Homework Hack \n",
    "\n",
    "Taylor Swift - Cruel Summer \n",
    "Sabrina Carpenter - Please Please Please\n",
    "\n",
    "Crowdsourcing can improve the playlist by making it more diverse and inclusive of mulitple perspectives and ideas. When more people are exposed to this, it can foster open mindedness about accepting new people's tastes and perspectives in music. It could harm the playlist because since anybody can edit the playlist, there may be innapropriate songs that either don't match the theme or are irrelevant to the topic. "
   ]
  }
 ],
 "metadata": {
  "language_info": {
   "name": "python"
  }
 },
 "nbformat": 4,
 "nbformat_minor": 2
}
