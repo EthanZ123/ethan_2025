{
 "cells": [
  {
   "cell_type": "markdown",
   "metadata": {},
   "source": [
    "---\n",
    "layout: post \n",
    "title: Final Blog\n",
    "description: Homework\n",
    "courses: {csp: {week: 1} }\n",
    "comments: true \n",
    "sticky_rank: 1 \n",
    "---"
   ]
  },
  {
   "cell_type": "markdown",
   "metadata": {},
   "source": [
    "# Project Overview and Skills"
   ]
  },
  {
   "cell_type": "markdown",
   "metadata": {},
   "source": [
    "Looking at the Projects from Blog in my Sprint2 folder, I can tell that I put consistent effort into connecting what I was learning with real-world ideas. These projects weren’t just about writing code. I explained what I was doing, why I was doing it, and what I learned. Each blog-style notebook includes both technical work and reflection, which helped me better understand the material and stay organized in my thinking.\n",
    "\n",
    "Another project that I was deeply connected with was ClubHub. Through the process of developing clubs for people to connect with, I was able to develop a sense of understanding for frontend and backend devlepment\n",
    "\n",
    "Specifically, I want to highlight DNA Dynamite. I think that DNA Dynamite was truly the changing point of this trimester and year because I really thought I began to understand the structure of backend and frontend development to a high extent. The integration of the quiz question using Gemini integration was something that I actually tried in the beginning of second trimester and failed, so getting this to work was something that I am deeply aware and proud of. \n",
    "\n",
    "What makes my work stand out is that I always made sure to explain my process clearly. I didn’t just run code and move on. I broke things down, tested my understanding, and focused on getting the details right. Whether I was working on a data project, an ethics reflection, or a game, I stayed focused on making sure everything was well explained and complete. These blog projects show that I can work through technical challenges while also reflecting on what I’m learning."
   ]
  },
  {
   "cell_type": "markdown",
   "metadata": {},
   "source": [
    "## Homework Success"
   ]
  },
  {
   "cell_type": "markdown",
   "metadata": {},
   "source": [
    "<img src= \"{{site.baseurl}}/images/notebooks/image copy 56.png\">"
   ]
  },
  {
   "cell_type": "markdown",
   "metadata": {},
   "source": [
    "As I look through my Sprint2 folder, it’s clear how much I’ve learned and completed over the course of the year. Each file represents a different part of the curriculum, from early blog reflections and pandas practice to more complex topics like machine learning, filtering algorithms, and Big-O analysis. I also worked on assignments that connected computing to real-world issues, such as the digital divide, safe computing, and intellectual property. Having all these files in one place shows that I stayed consistent and completed every major unit we were assigned. It wasn’t always easy—some topics were more challenging than others—but I kept up with the work and built on what I learned week by week. Now that I’ve finished the final assignment, 2025-6-8-Yearlong-Homework.ipynb, I can see how it ties everything together. It proves that I followed through on the full year’s expectations and successfully completed the course."
   ]
  },
  {
   "cell_type": "markdown",
   "metadata": {},
   "source": [
    "## N@TM"
   ]
  },
  {
   "cell_type": "markdown",
   "metadata": {},
   "source": [
    "<img src= \"{{site.baseurl}}/images/notebooks/image copy 57.png\">"
   ]
  },
  {
   "cell_type": "markdown",
   "metadata": {},
   "source": [
    "At Night at the Museum, we showcased our projects by starting with a clear and engaging general overview. We wanted to make sure our audience could easily understand the original goal of our project, so we explained the problem we were trying to solve and the motivations behind our work. This helped set the stage and gave context to what we would present next.\n",
    "\n",
    "After that, we introduced our game by giving a brief but informative summary of its purpose—what it was designed to do—and how players interact with it. We explained the core mechanics, the intended audience, and what we hoped players would gain from the experience. This helped the audience follow along more easily during the live demonstration.\n",
    "\n",
    "For the main part of our presentation, we walked everyone through the game in its full, deployed version. We played through different parts of the game and explained how each feature worked, describing the design choices we made along the way. We also talked about the development process—what tools we used, how we collaborated as a team, the challenges we faced, and how we solved them. This gave the audience a deeper appreciation of the work behind the project and allowed them to see not just the final product, but the thought and effort that went into creating it."
   ]
  }
 ],
 "metadata": {
  "language_info": {
   "name": "python"
  }
 },
 "nbformat": 4,
 "nbformat_minor": 2
}
