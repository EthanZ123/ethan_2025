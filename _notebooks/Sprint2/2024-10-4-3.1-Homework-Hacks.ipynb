{
 "cells": [
  {
   "cell_type": "markdown",
   "metadata": {},
   "source": [
    "---\n",
    "layout: post \n",
    "title: 3.1 Homework Hacks \n",
    "description: Homework Hacks\n",
    "courses: {csp: {week: 1} }\n",
    "comments: true \n",
    "sticky_rank: 1 \n",
    "---"
   ]
  },
  {
   "cell_type": "code",
   "execution_count": 1,
   "metadata": {},
   "outputs": [],
   "source": [
    "shopping_list = []\n",
    "total_cost = 0.0"
   ]
  },
  {
   "cell_type": "code",
   "execution_count": 2,
   "metadata": {},
   "outputs": [
    {
     "name": "stdout",
     "output_type": "stream",
     "text": [
      "Please enter a valid price.\n",
      "Please enter a valid price.\n",
      "Your shopping list:\n",
      "eggs: $3.00\n",
      "Total cost: $3.00\n"
     ]
    }
   ],
   "source": [
    "shopping_list = []\n",
    "total_cost = 0.0\n",
    "\n",
    "while True:\n",
    "    item_name = input(\"Enter the name of the item (or 'q' to quit): \")\n",
    "    if item_name.lower() == 'q':\n",
    "        break\n",
    "    \n",
    "    try:\n",
    "        item_price = float(input(\"Enter the price of the item: \"))\n",
    "    except ValueError:\n",
    "        print(\"Please enter a valid price.\")\n",
    "        continue\n",
    "    \n",
    "    shopping_list.append((item_name, item_price))\n",
    "    total_cost += item_price\n",
    "\n",
    "print(\"Your shopping list:\")\n",
    "for item in shopping_list:\n",
    "    print(f\"{item[0]}: ${item[1]:.2f}\")\n",
    "\n",
    "print(f\"Total cost: ${total_cost:.2f}\")\n"
   ]
  },
  {
   "cell_type": "code",
   "execution_count": 4,
   "metadata": {
    "vscode": {
     "languageId": "javascript"
    }
   },
   "outputs": [
    {
     "data": {
      "application/javascript": "\nconst cupsToTablespoons = 16;\nconst tablespoonsToTeaspoons = 3;\nconst cupsToTeaspoons = cupsToTablespoons * tablespoonsToTeaspoons; // 1 cup = 48 teaspoons\n\nconsole.log(`1 cup = ${cupsToTablespoons} tablespoons`);\nconsole.log(`1 tablespoon = ${tablespoonsToTeaspoons} teaspoons`);\nconsole.log(`1 cup = ${cupsToTeaspoons} teaspoons`);\n",
      "text/plain": [
       "<IPython.core.display.Javascript object>"
      ]
     },
     "metadata": {},
     "output_type": "display_data"
    }
   ],
   "source": [
    "%%js \n",
    "\n",
    "const cupsToTablespoons = 16;\n",
    "const tablespoonsToTeaspoons = 3;\n",
    "const cupsToTeaspoons = cupsToTablespoons * tablespoonsToTeaspoons; // 1 cup = 48 teaspoons\n",
    "\n",
    "console.log(`1 cup = ${cupsToTablespoons} tablespoons`);\n",
    "console.log(`1 tablespoon = ${tablespoonsToTeaspoons} teaspoons`);\n",
    "console.log(`1 cup = ${cupsToTeaspoons} teaspoons`);\n"
   ]
  },
  {
   "cell_type": "code",
   "execution_count": 5,
   "metadata": {
    "vscode": {
     "languageId": "javascript"
    }
   },
   "outputs": [
    {
     "data": {
      "application/javascript": "\nconst ingredients = [];\n\nwhile (true) {\n    const ingredientName = prompt(\"Enter the name of the ingredient (or 'q' to quit):\");\n    if (ingredientName.toLowerCase() === 'q') {\n        break;\n    }\n\n    const quantity = prompt(\"Enter the quantity of the ingredient:\");\n    const unit = prompt(\"Enter the current unit (e.g., cups, tablespoons, teaspoons):\");\n\n    ingredients.push({\n        name: ingredientName,\n        quantity: quantity,\n        unit: unit\n    });\n}\n\nconsole.log(\"Your ingredient list:\");\ningredients.forEach(ingredient => {\n    console.log(`${ingredient.quantity} ${ingredient.unit} of ${ingredient.name}`);\n});\n",
      "text/plain": [
       "<IPython.core.display.Javascript object>"
      ]
     },
     "metadata": {},
     "output_type": "display_data"
    }
   ],
   "source": [
    "%%js \n",
    "\n",
    "const ingredients = [];\n",
    "\n",
    "while (true) {\n",
    "    const ingredientName = prompt(\"Enter the name of the ingredient (or 'q' to quit):\");\n",
    "    if (ingredientName.toLowerCase() === 'q') {\n",
    "        break;\n",
    "    }\n",
    "\n",
    "    const quantity = prompt(\"Enter the quantity of the ingredient:\");\n",
    "    const unit = prompt(\"Enter the current unit (e.g., cups, tablespoons, teaspoons):\");\n",
    "\n",
    "    ingredients.push({\n",
    "        name: ingredientName,\n",
    "        quantity: quantity,\n",
    "        unit: unit\n",
    "    });\n",
    "}\n",
    "\n",
    "console.log(\"Your ingredient list:\");\n",
    "ingredients.forEach(ingredient => {\n",
    "    console.log(`${ingredient.quantity} ${ingredient.unit} of ${ingredient.name}`);\n",
    "});\n"
   ]
  },
  {
   "cell_type": "code",
   "execution_count": 6,
   "metadata": {
    "vscode": {
     "languageId": "javascript"
    }
   },
   "outputs": [
    {
     "data": {
      "application/javascript": "const ingredients = [];\nconst conversionRates = {\n    cupsToTablespoons: 16,\n    tablespoonsToTeaspoons: 3,\n    cupsToTeaspoons: 48,\n};\n\nwhile (true) {\n    const ingredientName = prompt(\"Enter the name of the ingredient (or 'q' to quit):\");\n    if (ingredientName.toLowerCase() === 'q') {\n        break;\n    }\n\n    const quantity = parseFloat(prompt(\"Enter the quantity of the ingredient:\"));\n    const unit = prompt(\"Enter the current unit (e.g., cups, tablespoons, teaspoons):\");\n\n    const desiredUnit = prompt(\"Enter the desired conversion unit (cups, tablespoons, teaspoons):\");\n\n    let\n",
      "text/plain": [
       "<IPython.core.display.Javascript object>"
      ]
     },
     "metadata": {},
     "output_type": "display_data"
    }
   ],
   "source": [
    "%%js \n",
    "const ingredients = [];\n",
    "const conversionRates = {\n",
    "    cupsToTablespoons: 16,\n",
    "    tablespoonsToTeaspoons: 3,\n",
    "    cupsToTeaspoons: 48,\n",
    "};\n",
    "\n",
    "while (true) {\n",
    "    const ingredientName = prompt(\"Enter the name of the ingredient (or 'q' to quit):\");\n",
    "    if (ingredientName.toLowerCase() === 'q') {\n",
    "        break;\n",
    "    }\n",
    "\n",
    "    const quantity = parseFloat(prompt(\"Enter the quantity of the ingredient:\"));\n",
    "    const unit = prompt(\"Enter the current unit (e.g., cups, tablespoons, teaspoons):\");\n",
    "\n",
    "    const desiredUnit = prompt(\"Enter the desired conversion unit (cups, tablespoons, teaspoons):\");\n",
    "\n",
    "    let\n"
   ]
  },
  {
   "cell_type": "code",
   "execution_count": 7,
   "metadata": {
    "vscode": {
     "languageId": "javascript"
    }
   },
   "outputs": [
    {
     "data": {
      "application/javascript": "const ingredients = [];\nconst conversionRates = {\n    cupsToTablespoons: 16,\n    tablespoonsToTeaspoons: 3,\n    cupsToTeaspoons: 48,\n};\n\nwhile (true) {\n    const ingredientName = prompt(\"Enter the name of the ingredient (or 'q' to quit):\");\n    if (ingredientName.toLowerCase() === 'q') {\n        break;\n    }\n\n    const quantity = parseFloat(prompt(\"Enter the quantity of the ingredient:\"));\n    const unit = prompt(\"Enter the current unit (e.g., cups, tablespoons, teaspoons):\");\n\n    const desiredUnit = prompt(\"Enter the desired conversion unit (cups, tablespoons, teaspoons):\");\n\n    let convertedQuantity;\n\n    if (unit === 'cups') {\n        if (desiredUnit === 'tablespoons') {\n            convertedQuantity = quantity * conversionRates.cupsToTablespoons;\n        } else if (desiredUnit === 'teaspoons') {\n            convertedQuantity = quantity * conversionRates.cupsToTeaspoons;\n        } else {\n            convertedQuantity = quantity; // Same unit\n        }\n    } else if (unit === 'tablespoons') {\n        if (desiredUnit === 'cups') {\n            convertedQuantity = quantity / conversionRates.cupsToTablespoons;\n        } else if (desiredUnit === 'teaspoons') {\n            convertedQuantity = quantity * conversionRates.tablespoonsToTeaspoons;\n        } else {\n            convertedQuantity = quantity; // Same unit\n        }\n    } else if (unit === 'teaspoons') {\n        if (desiredUnit === 'cups') {\n            convertedQuantity = quantity / conversionRates.cupsToTeaspoons;\n        } else if (desiredUnit === 'tablespoons') {\n            convertedQuantity = quantity / conversionRates.tablespoonsToTeaspoons;\n        } else {\n            convertedQuantity = quantity; // Same unit\n        }\n    } else {\n        console.log(\"Unknown unit provided. No conversion done.\");\n        convertedQuantity = quantity; // No conversion if unit is unknown\n    }\n\n    ingredients.push({\n        name: ingredientName,\n        originalQuantity: quantity,\n        originalUnit: unit,\n        convertedQuantity: convertedQuantity,\n        convertedUnit: desiredUnit,\n    });\n}\n\nconsole.log(\"Your ingredient list with original and converted quantities:\");\ningredients.forEach(ingredient => {\n    console.log(`${ingredient.originalQuantity} ${ingredient.originalUnit} of ${ingredient.name} = ${ingredient.convertedQuantity} ${ingredient.convertedUnit}`);\n});\n",
      "text/plain": [
       "<IPython.core.display.Javascript object>"
      ]
     },
     "metadata": {},
     "output_type": "display_data"
    }
   ],
   "source": [
    "%%js \n",
    "const ingredients = [];\n",
    "const conversionRates = {\n",
    "    cupsToTablespoons: 16,\n",
    "    tablespoonsToTeaspoons: 3,\n",
    "    cupsToTeaspoons: 48,\n",
    "};\n",
    "\n",
    "while (true) {\n",
    "    const ingredientName = prompt(\"Enter the name of the ingredient (or 'q' to quit):\");\n",
    "    if (ingredientName.toLowerCase() === 'q') {\n",
    "        break;\n",
    "    }\n",
    "\n",
    "    const quantity = parseFloat(prompt(\"Enter the quantity of the ingredient:\"));\n",
    "    const unit = prompt(\"Enter the current unit (e.g., cups, tablespoons, teaspoons):\");\n",
    "\n",
    "    const desiredUnit = prompt(\"Enter the desired conversion unit (cups, tablespoons, teaspoons):\");\n",
    "\n",
    "    let convertedQuantity;\n",
    "\n",
    "    if (unit === 'cups') {\n",
    "        if (desiredUnit === 'tablespoons') {\n",
    "            convertedQuantity = quantity * conversionRates.cupsToTablespoons;\n",
    "        } else if (desiredUnit === 'teaspoons') {\n",
    "            convertedQuantity = quantity * conversionRates.cupsToTeaspoons;\n",
    "        } else {\n",
    "            convertedQuantity = quantity; // Same unit\n",
    "        }\n",
    "    } else if (unit === 'tablespoons') {\n",
    "        if (desiredUnit === 'cups') {\n",
    "            convertedQuantity = quantity / conversionRates.cupsToTablespoons;\n",
    "        } else if (desiredUnit === 'teaspoons') {\n",
    "            convertedQuantity = quantity * conversionRates.tablespoonsToTeaspoons;\n",
    "        } else {\n",
    "            convertedQuantity = quantity; // Same unit\n",
    "        }\n",
    "    } else if (unit === 'teaspoons') {\n",
    "        if (desiredUnit === 'cups') {\n",
    "            convertedQuantity = quantity / conversionRates.cupsToTeaspoons;\n",
    "        } else if (desiredUnit === 'tablespoons') {\n",
    "            convertedQuantity = quantity / conversionRates.tablespoonsToTeaspoons;\n",
    "        } else {\n",
    "            convertedQuantity = quantity; // Same unit\n",
    "        }\n",
    "    } else {\n",
    "        console.log(\"Unknown unit provided. No conversion done.\");\n",
    "        convertedQuantity = quantity; // No conversion if unit is unknown\n",
    "    }\n",
    "\n",
    "    ingredients.push({\n",
    "        name: ingredientName,\n",
    "        originalQuantity: quantity,\n",
    "        originalUnit: unit,\n",
    "        convertedQuantity: convertedQuantity,\n",
    "        convertedUnit: desiredUnit,\n",
    "    });\n",
    "}\n",
    "\n",
    "console.log(\"Your ingredient list with original and converted quantities:\");\n",
    "ingredients.forEach(ingredient => {\n",
    "    console.log(`${ingredient.originalQuantity} ${ingredient.originalUnit} of ${ingredient.name} = ${ingredient.convertedQuantity} ${ingredient.convertedUnit}`);\n",
    "});\n"
   ]
  }
 ],
 "metadata": {
  "kernelspec": {
   "display_name": "venv",
   "language": "python",
   "name": "python3"
  },
  "language_info": {
   "codemirror_mode": {
    "name": "ipython",
    "version": 3
   },
   "file_extension": ".py",
   "mimetype": "text/x-python",
   "name": "python",
   "nbconvert_exporter": "python",
   "pygments_lexer": "ipython3",
   "version": "3.12.5"
  }
 },
 "nbformat": 4,
 "nbformat_minor": 2
}
