{
 "cells": [
  {
   "cell_type": "markdown",
   "metadata": {},
   "source": [
    "---\n",
    "layout: post \n",
    "title: Binary Search Algorithms \n",
    "description: Binary Search Algorithms.\n",
    "courses: {csp: {week: 1} }\n",
    "comments: true \n",
    "sticky_rank: 1 \n",
    "---"
   ]
  },
  {
   "cell_type": "markdown",
   "metadata": {},
   "source": [
    "Notes: It's an algorithm that allows u to divide and conquer to search for your value. One key part is that we need the array to be sortedb efore we actualyl search. In your actual algorithm, we want to set the two boundaries - lowest and highest value. Looping from high to low. Compare middle value to target value. Main benefit is that it allows you to cut the time it takes to search an array. It is much faster than other methods. The best case for them is that if u find the value straight away, (if ur number is the middle value). Binary is fast because it divides the array in half and it is divide andc conquer. \n",
    "\n",
    "If the target is never found, it is going to return -1. \n",
    "\n",
    "## Popcorn Hack 1: \n",
    "\n",
    "C: It has to slice in the middle of the list. Linear search can be unsorted. A is wrong because it doens't have to be even. B is wrong because it can contain duplicate values. D is wrong because the value of target can equal -1. \n",
    "\n",
    "## Popcorn Hack 2: \n",
    "\n",
    "B because Binary has to be used on a sorted list. A is wrong because Binary search does not take more time. C is wrong because it is in boith linear and binary search algorithsms. D is wrong because binary search can use multiple values. \n"
   ]
  },
  {
   "cell_type": "markdown",
   "metadata": {},
   "source": [
    "## Popcorn Hack 3 "
   ]
  },
  {
   "cell_type": "code",
   "execution_count": 6,
   "metadata": {},
   "outputs": [
    {
     "name": "stdout",
     "output_type": "stream",
     "text": [
      "Index of 'c': 2\n"
     ]
    }
   ],
   "source": [
    "def binary_search(arr, target):\n",
    "    low = 0\n",
    "    high = len(arr) - 1\n",
    "\n",
    "    while low <= high:\n",
    "        mid = (low + high) // 2\n",
    "        if arr[mid] == target:\n",
    "            return mid\n",
    "        elif arr[mid] < target:\n",
    "            low = mid + 1\n",
    "        else:\n",
    "            high = mid - 1\n",
    "\n",
    "    return -1 \n",
    "\n",
    "\n",
    "sorted_list = ['a', 'b', 'c', 'd', 'e', 'f', 'g']\n",
    "result = binary_search(sorted_list, 'c')\n",
    "print(\"Index of 'c':\", result)\n"
   ]
  },
  {
   "cell_type": "markdown",
   "metadata": {},
   "source": [
    "## Homework Hack "
   ]
  },
  {
   "cell_type": "code",
   "execution_count": 9,
   "metadata": {},
   "outputs": [
    {
     "name": "stdout",
     "output_type": "stream",
     "text": [
      "First few rows of sorted data:\n",
      "        Product  Price\n",
      "5        Eraser   0.50\n",
      "14  Paper Clips   0.89\n",
      "2        Pencil   0.99\n",
      "9    Glue Stick   1.25\n",
      "1           Pen   1.50\n",
      "Original row count: 15\n",
      "Cleaned row count: 15\n",
      "Price $1.25 found at index 3.\n",
      "Price $6.49 found at index 12.\n",
      "Price $10.00 not found in the list.\n"
     ]
    }
   ],
   "source": [
    "import pandas as pd\n",
    "\n",
    "# Load the dataset\n",
    "data = pd.read_csv(\"school_supplies.csv\")\n",
    "\n",
    "# Drop rows with missing values\n",
    "data_cleaned = data.dropna()\n",
    "\n",
    "# Sort the data by 'Price'\n",
    "data_sorted = data_cleaned.sort_values(by=\"Price\")\n",
    "\n",
    "# Extract sorted prices as a list\n",
    "price_list = data_sorted[\"Price\"].tolist()\n",
    "\n",
    "# Preview the sorted data\n",
    "print(\"First few rows of sorted data:\")\n",
    "print(data_sorted.head())\n",
    "print(\"Original row count:\", len(data))\n",
    "print(\"Cleaned row count:\", len(data_cleaned))\n",
    "\n",
    "# Binary search function\n",
    "def binary_search(arr, target):\n",
    "    low = 0\n",
    "    high = len(arr) - 1\n",
    "\n",
    "    while low <= high:\n",
    "        mid = (low + high) // 2\n",
    "        if arr[mid] == target:\n",
    "            return mid\n",
    "        elif arr[mid] < target:\n",
    "            low = mid + 1\n",
    "        else:\n",
    "            high = mid - 1\n",
    "\n",
    "    return -1  # Target not found\n",
    "\n",
    "# Prices to search for\n",
    "search_prices = [1.25, 6.49, 10.00]\n",
    "\n",
    "# Search and print results\n",
    "for price in search_prices:\n",
    "    result = binary_search(price_list, price)\n",
    "    if result != -1:\n",
    "        print(f\"Price ${price:.2f} found at index {result}.\")\n",
    "    else:\n",
    "        print(f\"Price ${price:.2f} not found in the list.\")\n"
   ]
  },
  {
   "cell_type": "markdown",
   "metadata": {},
   "source": [
    "This code first loads a CSV file containing product data and cleans it by removing any rows with missing information. It then sorts the product prices from lowest to highest and extracts these sorted prices into a list. Using binary search, the code efficiently checks if specific prices (like 1.25, 6.49, or 10.00) are in the list. Finally, it prints a message indicating whether each price was found or not, helping to quickly verify the presence of those prices in the dataset."
   ]
  }
 ],
 "metadata": {
  "kernelspec": {
   "display_name": "venv",
   "language": "python",
   "name": "python3"
  },
  "language_info": {
   "codemirror_mode": {
    "name": "ipython",
    "version": 3
   },
   "file_extension": ".py",
   "mimetype": "text/x-python",
   "name": "python",
   "nbconvert_exporter": "python",
   "pygments_lexer": "ipython3",
   "version": "3.12.5"
  }
 },
 "nbformat": 4,
 "nbformat_minor": 2
}
