{
 "cells": [
  {
   "cell_type": "markdown",
   "metadata": {},
   "source": [
    "---\n",
    "layout: post \n",
    "title: Digital Divide \n",
    "description: Digital Divide \n",
    "courses: {csp: {week: 1} }\n",
    "comments: true \n",
    "sticky_rank: 1 \n",
    "---"
   ]
  },
  {
   "cell_type": "markdown",
   "metadata": {},
   "source": [
    "## Notes: \n",
    "\n",
    "\n",
    "When you don't have access to technology, there will be strong learning disparity in college. \n",
    "Free internet in libraries and other places \n",
    "They also have free computer classes \n",
    "Ongoing volunteer opportunity to prepare laptops and materials to underserved communities. \n",
    "Not having internet is difficult because most everuything i9s internet based. \n",
    "\n"
   ]
  },
  {
   "cell_type": "markdown",
   "metadata": {},
   "source": [
    "## Popcorn Hack #1\n",
    "\n",
    "B, D\n",
    "\n",
    "A is wrong because some people are adapted to technology as others \n",
    "C is wrong because restriction increases divide. "
   ]
  },
  {
   "cell_type": "markdown",
   "metadata": {},
   "source": [
    "# Popcorn Hack #2 \n",
    "\n",
    "I would join the volunteer program to help underpriveleged people recieve the opportunity to use the internet and other technologies. Some things that are already being done is the nonprofit organizations that help these people have access to modern technologies like the internet. We can add to this by creating more flexable and adaptable pieces of technology so that people with disabilities or whatnot can use them. "
   ]
  }
 ],
 "metadata": {
  "language_info": {
   "name": "python"
  }
 },
 "nbformat": 4,
 "nbformat_minor": 2
}
