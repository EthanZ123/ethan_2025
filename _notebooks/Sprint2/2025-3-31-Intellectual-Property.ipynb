{
 "cells": [
  {
   "cell_type": "markdown",
   "metadata": {},
   "source": [
    "---\n",
    "layout: post \n",
    "title: Digital Divide HW\n",
    "description: DIgital Divide HW\n",
    "courses: {csp: {week: 1} }\n",
    "comments: true \n",
    "sticky_rank: 1 \n",
    "---"
   ]
  },
  {
   "cell_type": "markdown",
   "metadata": {},
   "source": [
    "## Popcorn Hack #1\n",
    "\n",
    "Creations of the mind. Any material created on a computer is an example of intellectual property. Types are trademarking, copyright, trade secrets, contracts. They protect branding, creative work, secrets of values. Register your intellectual property and use watermarks. Raise awareness about it. Prevent unauthorized use. There are some cases where your intellectual property can used without permission but its valid. ex. Education, nonprofit purposes and other fair uses. Works fall into the public domain when the copyright expires. It's important to protect intellectual property so that creators are treated fairly and they have the motivation to create new things. "
   ]
  },
  {
   "cell_type": "markdown",
   "metadata": {},
   "source": [
    "## MC Sample : B"
   ]
  },
  {
   "cell_type": "markdown",
   "metadata": {},
   "source": [
    "Plagiarism is bad in CS. it can be disheartening for content creators. Plagiarism in computer science refers to the unauthorized use of someone's code. Coding plagiarism can be less obvious. Ex. Copying code from online website, using AI. Plagiarism is cheating. On the college board exam, you could get a 0 if you plagiarise. MIT license. Merge publish distribute. "
   ]
  },
  {
   "cell_type": "markdown",
   "metadata": {},
   "source": [
    "## Popcorn Hack #2\n",
    "\n",
    "The MIT license is an open-source license that allows users to freely use, change, and distribute their softwares. They must provide the original copyright notice and the disclaimers in all copies or substantial portions of the software to make sure they are not plagiarizing. It also includes a disclaimer of any warranty, making it clear that the software is provided as is. In a GitHub repo, the MIT License could be in a LICENSE file. The file could contain the full text of the MIT License and granting users the right to freely use the software. "
   ]
  },
  {
   "cell_type": "markdown",
   "metadata": {},
   "source": [
    "## Popcorn Hack #3 \n",
    "\n",
    "Define a Creative Common License \n",
    "What are exeptions to the copyright law. \n",
    "\n",
    "A creative commons license is a public copyright license that allows creators to share their works legally while specifying how others are able to use them. Some exceptions to the copyright law is fair use, which allows the use of copyrighted materials like education or commentary. \n"
   ]
  },
  {
   "cell_type": "markdown",
   "metadata": {},
   "source": [
    "## Popcorn Hack #4 \n",
    "\n",
    "Use copyright notices, watermarks, content, minitor usage, credit original creator, use stock or license content\n",
    "\n",
    "RISHA GUHA"
   ]
  },
  {
   "cell_type": "markdown",
   "metadata": {},
   "source": [
    "## MCQ \n",
    "\n",
    "2020: \n",
    "31: C \n",
    "51: A \n",
    "59: C \n",
    "\n",
    "2018 \n",
    "16: D \n",
    "35: D"
   ]
  },
  {
   "cell_type": "markdown",
   "metadata": {},
   "source": [
    "## HW HACK\n",
    "\n",
    "The Apache License 2.0 is a permissive open-source license that allows users to freely use and modify the software while also providing legal copyright protection through the patent. The license benefits my project by encouraging collaboration and adoption without imposing restrictive requirements, making it suitable for open-source applications. Users benefit from the flexibility to integrate the project into their own work while maintaining proper attribution. Additionally, the license includes a disclaimer of liability, protecting contrinutors from legal risks. overall, the Apache License 2.0 has a balance between opnness and legal security. \n",
    "\n",
    "\n",
    "https://github.com/EthanZ123/ethan_2025/blob/main/LICENSE"
   ]
  }
 ],
 "metadata": {
  "language_info": {
   "name": "python"
  }
 },
 "nbformat": 4,
 "nbformat_minor": 2
}
