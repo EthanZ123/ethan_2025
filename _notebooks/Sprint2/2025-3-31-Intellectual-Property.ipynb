{
 "cells": [
  {
   "cell_type": "markdown",
   "metadata": {},
   "source": [
    "---\n",
    "layout: post \n",
    "title: Intellectual Property\n",
    "description: Intellectual Property\n",
    "courses: {csp: {week: 1} }\n",
    "comments: true \n",
    "sticky_rank: 1 \n",
    "---"
   ]
  },
  {
   "cell_type": "markdown",
   "metadata": {},
   "source": [
    "## Popcorn Hack #1\n",
    "\n",
    "Creations of the mind. Any material created on a computer is an example of intellectual property. Types are trademarking, copyright, trade secrets, contracts. They protect branding, creative work, secrets of values. Register your intellectual property and use watermarks. Raise awareness about it. Prevent unauthorized use. There are some cases where your intellectual property can used without permission but its valid. ex. Education, nonprofit purposes and other fair uses. Works fall into the public domain when the copyright expires. It's important to protect intellectual property so that creators are treated fairly and they have the motivation to create new things. "
   ]
  },
  {
   "cell_type": "markdown",
   "metadata": {},
   "source": [
    "## MC Sample : B"
   ]
  },
  {
   "cell_type": "markdown",
   "metadata": {},
   "source": [
    "Plagiarism is bad in CS. it can be disheartening for content creators. Plagiarism in computer science refers to the unauthorized use of someone's code. Coding plagiarism can be less obvious. Ex. Copying code from online website, using AI. Plagiarism is cheating. On the college board exam, you could get a 0 if you plagiarise. MIT license. Merge publish distribute. "
   ]
  },
  {
   "cell_type": "markdown",
   "metadata": {},
   "source": [
    "## Popcorn Hack #2\n",
    "\n",
    "The MIT license is an open-source license that allows users to freely use, change, and distribute their softwares. They must provide the original copyright notice and the disclaimers in all copies or substantial portions of the software to make sure they are not plagiarizing. It also includes a disclaimer of any warranty, making it clear that the software is provided as is. In a GitHub repo, the MIT License could be in a LICENSE file. The file could contain the full text of the MIT License and granting users the right to freely use the software. "
   ]
  },
  {
   "cell_type": "markdown",
   "metadata": {},
   "source": [
    "## Popcorn Hack #3 \n",
    "\n",
    "Define a Creative Common License \n",
    "What are exeptions to the copyright law. \n",
    "\n",
    "A creative commons license is a public copyright license that allows creators to share their works legally while specifying how others are able to use them. Some exceptions to the copyright law is fair use, which allows the use of copyrighted materials like education or commentary. \n"
   ]
  },
  {
   "cell_type": "markdown",
   "metadata": {},
   "source": [
    "## Popcorn Hack #4 \n",
    "\n",
    "Use copyright notices, watermarks, content, minitor usage, credit original creator, use stock or license content\n",
    "\n",
    "RISHA GUHA"
   ]
  },
  {
   "cell_type": "markdown",
   "metadata": {},
   "source": [
    "## MCQ \n",
    "\n",
    "2020: \n",
    "31: C \n",
    "51: A \n",
    "59: C \n",
    "\n",
    "2018 \n",
    "16: D \n",
    "35: D"
   ]
  },
  {
   "cell_type": "markdown",
   "metadata": {},
   "source": [
    "## HW HACK\n",
    "\n",
    "The Apache License 2.0 is a permissive open-source license that allows users to freely use and modify the software while also providing legal copyright protection through the patent. The license benefits my project by encouraging collaboration and adoption without imposing restrictive requirements, making it suitable for open-source applications. Users benefit from the flexibility to integrate the project into their own work while maintaining proper attribution. Additionally, the license includes a disclaimer of liability, protecting contrinutors from legal risks. overall, the Apache License 2.0 has a balance between opnness and legal security. \n",
    "\n",
    "## Project Smart Cells\n",
    "### Problem Statement\n",
    "Illumina is a leading biotech company in the health and medical services sector, driven by its core values of innovation, collaboration, integrity, and accessibility. Committed to advancing genomics, Illumina develops cutting-edge sequencing kits, instruments, and analytical tools that empower researchers, clinicians, and scientists to make breakthrough discoveries in healthcare and beyond. However, they are unable to connect with younger demographics due to perceived difficulty of the topics that they are working on. Thus, they aim to increase knowledge about DNA and interest in Illumina in their social media followers through an engaging, easy to understand game.\n",
    "\n",
    "### Interest in Topic:\n",
    "Genomics is a crucial subject for research because of its applicability and scope in all living organisms. We are interested in creating a project for Illumina through Pilot City because we are fascinated by the power of genes and excited at the prospect of creating a functional game for real-world users.\n",
    "\n",
    "### Project Overview:\n",
    "This project develops a game for the Illumina company to increase social media engagement.\n",
    "\n",
    "Goal: increase engagement by 30%\n",
    "Intended Audience: Social media followers of Illumina\n",
    "Incentive to win (Social media post)\n",
    "Content: Game must have information about both Illumina and DNA sequencing\n",
    "Gameplay\n",
    "Game Structure:\n",
    "Game similar to Block Blast (DNA Dynamite)\n",
    "Users race to fill in the base pairs before the DNA disappears from their screen\n",
    "If a user runs out of hearts, they must answer 3 trivia questions correctly to revive\n",
    "Highest score stored in backend\n",
    "Teaches users about DNA and increases engagement/understanding of gene editing\n",
    "\n",
    "\n",
    "Personal Repo: https://github.com/EthanZ123/ethan_2025/blob/main/LICENSE\n",
    "Pilot City:  https://github.com/blackstar3092/illumina_pc_frontend/blob/main/LICENSE\n",
    "\n",
    "RISHA IS SCRUM SO HER NAME IS ON THE FILE\n"
   ]
  }
 ],
 "metadata": {
  "language_info": {
   "name": "python"
  }
 },
 "nbformat": 4,
 "nbformat_minor": 2
}
