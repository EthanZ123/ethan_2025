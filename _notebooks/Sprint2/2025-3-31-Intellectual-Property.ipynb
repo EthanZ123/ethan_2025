{
 "cells": [
  {
   "cell_type": "markdown",
   "metadata": {},
   "source": [
    "---\n",
    "layout: post \n",
    "title: Digital Divide HW\n",
    "description: DIgital Divide HW\n",
    "courses: {csp: {week: 1} }\n",
    "comments: true \n",
    "sticky_rank: 1 \n",
    "---"
   ]
  },
  {
   "cell_type": "markdown",
   "metadata": {},
   "source": [
    "## Popcorn Hack #1\n",
    "\n",
    "Creations of the mind. Any material created on a computer is an example of intellectual property. Types are trademarking, copyright, trade secrets, contracts. They protect branding, creative work, secrets of values. Register your intellectual property and use watermarks. Raise awareness about it. Prevent unauthorized use. There are some cases where your intellectual property can used without permission but its valid. ex. Education, nonprofit purposes and other fair uses. Works fall into the public domain when the copyright expires. It's important to protect intellectual property so that creators are treated fairly and they have the motivation to create new things. "
   ]
  },
  {
   "cell_type": "markdown",
   "metadata": {},
   "source": [
    "## MC Sample : B"
   ]
  },
  {
   "cell_type": "markdown",
   "metadata": {},
   "source": [
    "Plagiarism is bad in CS. it can be disheartening for content creators. Plagiarism in computer science refers to the unauthorized use of someone's code. Coding plagiarism can be less obvious. Ex. Copying code from online website, using AI. Plagiarism is cheating. On the college board exam, you could get a 0 if you plagiarise. MIT license. Merge publish distribute. "
   ]
  },
  {
   "cell_type": "markdown",
   "metadata": {},
   "source": [
    "## Popcorn Hack #2\n",
    "\n",
    "The MIT license is an open-source license that allows users to freely use, change, and distribute their softwares. They must provide the original copyright notice and the disclaimers in all copies or substantial portions of the software to make sure they are not plagiarizing. It also includes a disclaimer of any warranty, making it clear that the software is provided as is. In a GitHub repo, the MIT License could be in a LICENSE file. The file could contain the full text of the MIT License and granting users the right to freely use the software. "
   ]
  },
  {
   "cell_type": "markdown",
   "metadata": {},
   "source": [
    "## Popcorn Hack #3 \n",
    "\n",
    "Define a Creative Common License \n",
    "What are exeptions to the copyright law. \n",
    "\n",
    "A creative commons license is a public copyright license that allows creators to share their works legally while specifying how others are able to use them. Some exceptions to the copyright law is fair use, which allows the use of copyrighted materials like education or commentary. \n"
   ]
  },
  {
   "cell_type": "markdown",
   "metadata": {},
   "source": [
    "## Popcorn Hack #4 \n",
    "\n",
    "Use copyright notices, watermarks, content, minitor usage, credit original creator, use stock or license content\n",
    "\n",
    "RISHA GUHA"
   ]
  },
  {
   "cell_type": "markdown",
   "metadata": {},
   "source": [
    "## MCQ \n",
    "\n",
    "2020: \n",
    "31: C \n",
    "51: A \n",
    "59: C \n",
    "\n",
    "2018 \n",
    "16: D \n",
    "35: D"
   ]
  },
  {
   "cell_type": "markdown",
   "metadata": {},
   "source": [
    "The MIT license is good because it lets anyone use, change, and share your code without a bunch of restrictions. It’s really simple, so you don’t have to worry about confusing legal stuff. You still get credit for your work, but people can build on it however they want. If you want your project to spread and help more people, MIT is a great choice. Also, since it doesn’t force anyone to open-source their changes, companies are more likely to use your code.\n"
   ]
  }
 ],
 "metadata": {
  "language_info": {
   "name": "python"
  }
 },
 "nbformat": 4,
 "nbformat_minor": 2
}
