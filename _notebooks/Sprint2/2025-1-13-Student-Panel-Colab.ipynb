{
 "cells": [
  {
   "cell_type": "markdown",
   "metadata": {},
   "source": [
    "---\n",
    "layout: post \n",
    "title: Student Panel Collab\n",
    "description: Student Panel Collab\n",
    "courses: {csp: {week: 1} }\n",
    "comments: true \n",
    "sticky_rank: 1 \n",
    "---"
   ]
  },
  {
   "cell_type": "markdown",
   "metadata": {},
   "source": [
    "<img src= \"{{site.baseurl}}/images/notebooks/image copy 49.png\">"
   ]
  },
  {
   "cell_type": "markdown",
   "metadata": {},
   "source": [
    "## Key Takeaways \n",
    "\n",
    "The Student Panel Collaboration helped me understand real world applications of computer science skills. \n",
    "\n",
    "For example, a significant aspect of computer science is learning how to collaborate amongst peers and work together as a team. Demonstrated in all of our Sprints and projects, such as Flocker, collaboration was a major aspect of the student's lives discussed in the panel. The students gave me insight about how this class could influence my future and helped me further understand the concrete skills we are developing in CSP. \n",
    "\n",
    "Additionally, proccesses in CSP such as live reviews are essential in the real world in terms of comunication and conferencing. Live reviews in this class can prepare me for the real world by developing skills that involve receiving and applying constructive feedback. With thsi class, I feel I am more able to present my ideas clearly, and collaborate with others to prepare for the review. They mirror real-world scenarios where I will need to showcase my work, explain my thought process, and to recieve input from colleagues, clients, or supervisors. Flow charts that we utilize in this class are also useful for effective communication skills with future jobs. \n",
    "\n",
    "Overall, I learned that CSP is developing essential skills that will be extremely useful in the real-world. "
   ]
  }
 ],
 "metadata": {
  "language_info": {
   "name": "python"
  }
 },
 "nbformat": 4,
 "nbformat_minor": 2
}
