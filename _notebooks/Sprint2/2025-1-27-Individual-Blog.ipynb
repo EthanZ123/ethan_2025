{
 "cells": [
  {
   "cell_type": "markdown",
   "metadata": {},
   "source": [
    "---\n",
    "layout: post \n",
    "title: Individual Blog \n",
    "description: Individual Blog\n",
    "courses: {csp: {week: 1} }\n",
    "comments: true \n",
    "sticky_rank: 1 \n",
    "---"
   ]
  },
  {
   "cell_type": "markdown",
   "metadata": {},
   "source": [
    "## Group's Purpose\n",
    "\n",
    "Our purpose is to create a dynamic online platform that encourages students to discover and explore their interests, connect with like-minded peers, and engage in meaninful activities with our supportive clubs. Through an interactive environment that features discovery tools and a wide range of clubs, we aim to inspire curiosity and foster collaboration. This platform will serve as a hub for students to pursue their passions and build lasting connections within a vibrant community.\n",
    "\n",
    "## My Purpose\n",
    "\n",
    "My feature, leadership applications, would provide students with opportunities to take on meaningful roles in their clubs, develop their leadership skills, and contribute to the growth of the community. By leading clubs, student leaders can inspire others, build connectinons, and create a more engaging and dynamic environment for everyone. "
   ]
  },
  {
   "cell_type": "markdown",
   "metadata": {},
   "source": [
    "## CRUD and Formatting \n",
    "\n",
    "In my code, I use lists, dictionaries, and a database to manage leadership application data. Lists are used to handle the multiple rows of data, such as when I restore a list of leadership entries from an external source such as \"restore(data) method\". Each row is in the list coresponds to a dictionary that represents columns in the database table, with the dictionary keys matching the names of the clumns and the values representing the data for each column. The Leadership class is a model that interacts with the database that allows the CRUD operations on leadership records. For example, create() method adds a new record to the database, update() allows modifications of existing records. WHen exracting the data, SQLAlchemy queries the Leadership instance to a dictionary using the to_dict() method. Additionally, when interacting with external APIs, the response data is formatted for integration into the frontend."
   ]
  },
  {
   "cell_type": "markdown",
   "metadata": {},
   "source": [
    "## Postman Requests\n",
    "\n",
    "\n",
    "Handing the API requests is structured through a class-based API design, where each method is reponsible for their specific HTTP actions like GET, POST, PUT, and DELETE. The methods in each class can interact with the Leadership model to perform their respective operations. For example, the GET method retrieves all leadership entries or a specific leadership record by an ID using SQLAlchemy queries. The POST method allows for the creation of new leadership entries, handling the data and object creation. The PUT would update an existing entry and modifies its attributes based on user-given data, and delete would remove a leadership record from the database. Within these methods, sequencing, selection, and iteration can be seen: sequencing ensures the proper order of operations, selection allows me to hand different types of HTTP requests or conditions, and iteration is used when processing the lists of data. The paramters in these functions, like the body of POST or PUT request, would be passed as JSON, and used to interact with Leadership Model. The return type of these functions would typically be a jsonify() response, which converts the resulting data into JSON format so that it becomes suitable to API responses. "
   ]
  }
 ],
 "metadata": {
  "language_info": {
   "name": "python"
  }
 },
 "nbformat": 4,
 "nbformat_minor": 2
}
