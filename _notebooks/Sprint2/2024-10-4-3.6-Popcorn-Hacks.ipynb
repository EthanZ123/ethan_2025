{
 "cells": [
  {
   "cell_type": "markdown",
   "metadata": {},
   "source": [
    "---\n",
    "layout: post \n",
    "title: 3.6 Popcorn Hacks \n",
    "description: Popcorn Hacks\n",
    "courses: {csp: {week: 1} }\n",
    "comments: true \n",
    "sticky_rank: 1 \n",
    "---"
   ]
  },
  {
   "cell_type": "code",
   "execution_count": 4,
   "metadata": {},
   "outputs": [
    {
     "name": "stdout",
     "output_type": "stream",
     "text": [
      "You passed the test!\n"
     ]
    }
   ],
   "source": [
    "score = 98\n",
    "\n",
    "# Conditional statement\n",
    "if score >= 70:\n",
    "    print(\"You passed the test!\")\n",
    "else:\n",
    "    print(\"You failed the test.\")"
   ]
  },
  {
   "cell_type": "code",
   "execution_count": null,
   "metadata": {
    "vscode": {
     "languageId": "javascript"
    }
   },
   "outputs": [],
   "source": [
    "%%js\n",
    "let score = 85;\n",
    "\n",
    "// Conditional statement\n",
    "if (score >= 75) {\n",
    "    console.log(\"You passed the test!\");\n",
    "} else {\n",
    "    console.log(\"You failed the test.\");\n",
    "}\n"
   ]
  },
  {
   "cell_type": "code",
   "execution_count": 6,
   "metadata": {},
   "outputs": [
    {
     "name": "stdout",
     "output_type": "stream",
     "text": [
      "The boolean value is true.\n"
     ]
    }
   ],
   "source": [
    "user_input = input(\"Enter true or false: \")\n",
    "boolean_value = user_input.lower() == 'true'\n",
    "\n",
    "if boolean_value:\n",
    "    print(\"The boolean value is true.\")\n",
    "else:\n",
    "    print(\"The boolean value is false.\")\n"
   ]
  },
  {
   "cell_type": "code",
   "execution_count": 7,
   "metadata": {
    "vscode": {
     "languageId": "javascript"
    }
   },
   "outputs": [
    {
     "data": {
      "application/javascript": "let userInput = prompt(\"Enter true or false:\");\nlet booleanValue = (userInput.toLowerCase() === 'true');\n\nif (booleanValue) {\n    console.log(\"The boolean value is true.\");\n} else {\n    console.log(\"The boolean value is false.\");\n}\n",
      "text/plain": [
       "<IPython.core.display.Javascript object>"
      ]
     },
     "metadata": {},
     "output_type": "display_data"
    }
   ],
   "source": [
    "%%js\n",
    "let userInput = prompt(\"Enter true or false:\");\n",
    "let booleanValue = (userInput.toLowerCase() === 'true');\n",
    "\n",
    "if (booleanValue) {\n",
    "    console.log(\"The boolean value is true.\");\n",
    "} else {\n",
    "    console.log(\"The boolean value is false.\");\n",
    "}\n"
   ]
  },
  {
   "cell_type": "code",
   "execution_count": 10,
   "metadata": {},
   "outputs": [
    {
     "name": "stdout",
     "output_type": "stream",
     "text": [
      "The random number is greater than 0.5: 0.6241457866153592\n"
     ]
    }
   ],
   "source": [
    "import random\n",
    "\n",
    "random_number = random.random()\n",
    "\n",
    "if random_number > 0.5:\n",
    "    print(\"The random number is greater than 0.5:\", random_number)\n",
    "else:\n",
    "    print(\"The random number is less than or equal to 0.5:\", random_number)\n"
   ]
  },
  {
   "cell_type": "code",
   "execution_count": 11,
   "metadata": {
    "vscode": {
     "languageId": "javascript"
    }
   },
   "outputs": [
    {
     "data": {
      "application/javascript": "let randomNumber = Math.random();\n\nif (randomNumber > 0.5) {\n    console.log(\"The random number is greater than 0.5: \" + randomNumber);\n} else {\n    console.log(\"The random number is less than or equal to 0.5: \" + randomNumber);\n}\n",
      "text/plain": [
       "<IPython.core.display.Javascript object>"
      ]
     },
     "metadata": {},
     "output_type": "display_data"
    }
   ],
   "source": [
    "%%js \n",
    "let randomNumber = Math.random();\n",
    "\n",
    "if (randomNumber > 0.5) {\n",
    "    console.log(\"The random number is greater than 0.5: \" + randomNumber);\n",
    "} else {\n",
    "    console.log(\"The random number is less than or equal to 0.5: \" + randomNumber);\n",
    "}\n"
   ]
  }
 ],
 "metadata": {
  "kernelspec": {
   "display_name": "venv",
   "language": "python",
   "name": "python3"
  },
  "language_info": {
   "codemirror_mode": {
    "name": "ipython",
    "version": 3
   },
   "file_extension": ".py",
   "mimetype": "text/x-python",
   "name": "python",
   "nbconvert_exporter": "python",
   "pygments_lexer": "ipython3",
   "version": "3.12.5"
  }
 },
 "nbformat": 4,
 "nbformat_minor": 2
}
