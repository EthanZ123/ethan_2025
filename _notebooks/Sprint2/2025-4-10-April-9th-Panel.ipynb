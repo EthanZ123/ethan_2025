{
 "cells": [
  {
   "cell_type": "markdown",
   "metadata": {},
   "source": [
    "---\n",
    "layout: post \n",
    "title: Cyber Security Panel \n",
    "description: Panel\n",
    "courses: {csp: {week: 1} }\n",
    "comments: true \n",
    "sticky_rank: 1 \n",
    "---"
   ]
  },
  {
   "cell_type": "markdown",
   "metadata": {},
   "source": [
    "## Notes: \n",
    "\n",
    "New different types of softwares and scanning systems - may not make money, may lose money. Dumb it down to non technical jargon so that business leaders who have the money know the value and what you’re expressing to them. Looking at new different audit logs and seeing what type of vulnerabilities are present day to day. Seeing how to mitigate those. Seeing that nobody speaks your language in the business world.\n",
    "\n",
    "Personal challenge being ignorant: learning curve, embrace that, flourish in environments for learning. Organizations not wanting to share data with each other - if u see something that seems weird, tell somebody about it and tell law enforcement about it.\n",
    "\n",
    "Kuwait - staff of 25 engineers, pick about 5 to live on base with them. Other side of cyber security is also people. move away from families - challenge of cyber\n",
    "\n",
    "When you are faced with adversarial danger, had to figure out how to get mission accomplished with ⅕ of his staff\n",
    "\n",
    "Future of Cyber:\n",
    "\n",
    "Health care and business. If you are in finance, you have servers, if you are in healthcare, you have a more human element of risk. Have the same technologies that hackers have to counter them. Human elements have more of a severity than just a splinter of algorithm.\n",
    "\n",
    "Echo AI: Taught a lot of coders are scared of losing their jobs. People have jobs to fire 10% of their staff. If you’re a coder and not rlly good, this is a really bad time. You wanna be a really skilled coder. Speaking out from the government jobs, Russia, China, are really skilled at cyber. There are going to be government jobs trying to fight this because we have a lot of vulnerable synonyms. Next 5-10 years, almost every entity is going to prioritize cyber security, turning that way, been turning that way. Most of the large companies yes, but medium and small companies haven’t prioritized investment. An interesting competency area to pursue when it comes to CS and programming, people don’t know how to secure code so it is a wide open space that not a lot of people have that skillset.\n",
    "\n",
    "New stuff is coming out all the time. It is staying in the know, wanting to do research, wanting to stay aware of what other countries are doing, essentially what our vulnerabilities are on the horizon. Digging in as much as you can.\n",
    "\n",
    "I do huge amount of reading, unclassified and classified. massive amounts of reading. Suggest to all of us that this is not going to resonate with us as a highschool student. Try to remember this moment when you enter the job market. Identify people who are really really good and be friends with them. It will be very very important, they will get you a lot of jobs, be a people person, learn a lot of stuff from them. You gotta get ready for it. It changes constantly and you can’t get home and think “you’re done”. Best people are ppl who put their kids to bed at 9 and do more research.\n",
    "\n",
    "Brother that is doctor at Harvard."
   ]
  },
  {
   "cell_type": "markdown",
   "metadata": {},
   "source": [
    "Key Takeaways: \n",
    "\n",
    "Cybersecurity is a moving target, with new scanning systems and tools coming out that don't always bring in profit, but are necessary to find daily vulnerabilities and reduce risk. Business leaders need to see the value beyond dollars—these tools safeguard important systems and information. There is a communication divide between technical professionals and business decision-makers, and closing that divide is imperative. The human side of cybersecurity is just as important as the technology—especially in high-stress environments like living on military bases or working with limited personnel under threat. In sectors like healthcare and finance, stakes are high and very real. Coders must now be highly skilled, since automation and AI (like Echo AI) are doing routine jobs. In the future, all businesses will need strong cybersecurity, but currently, most small and mid-sized companies are not. The field is wide open to anyone who wants to learn how to secure code, stay curious, read indefinitely, and foster good relationships—because staying networked and being agile is as important as being technical."
   ]
  },
  {
   "cell_type": "markdown",
   "metadata": {},
   "source": [
    "<img src= \"{{site.baseurl}}/images/notebooks/image copy 55.png\">"
   ]
  }
 ],
 "metadata": {
  "language_info": {
   "name": "python"
  }
 },
 "nbformat": 4,
 "nbformat_minor": 2
}
