{
 "cells": [
  {
   "cell_type": "markdown",
   "metadata": {},
   "source": [
    "---\n",
    "layout: post \n",
    "title: 3.8 Popcorn Hacks\n",
    "description: Popcorn Hacks\n",
    "courses: {csp: {week: 1} }\n",
    "comments: true \n",
    "sticky_rank: 1 \n",
    "---"
   ]
  },
  {
   "cell_type": "code",
   "execution_count": 30,
   "metadata": {
    "vscode": {
     "languageId": "javascript"
    }
   },
   "outputs": [
    {
     "data": {
      "application/javascript": "for (let i = 0; i < 5; i++) {\n    console.log(i);\n}\n",
      "text/plain": [
       "<IPython.core.display.Javascript object>"
      ]
     },
     "metadata": {},
     "output_type": "display_data"
    }
   ],
   "source": [
    "%%javascript\n",
    "for (let i = 0; i < 4; i++) {\n",
    "    console.log(i);\n",
    "}"
   ]
  },
  {
   "cell_type": "code",
   "execution_count": 31,
   "metadata": {},
   "outputs": [
    {
     "name": "stdout",
     "output_type": "stream",
     "text": [
      "apple\n",
      "banana\n",
      "cherry\n"
     ]
    }
   ],
   "source": [
    "fruits = ['apple', 'banana', 'cherry']\n",
    "\n",
    "for fruit in fruits:\n",
    "    print(fruit)"
   ]
  },
  {
   "cell_type": "code",
   "execution_count": 37,
   "metadata": {},
   "outputs": [
    {
     "name": "stdout",
     "output_type": "stream",
     "text": [
      "3\n",
      "6\n",
      "9\n",
      "12\n",
      "15\n",
      "18\n",
      "21\n",
      "24\n"
     ]
    }
   ],
   "source": [
    "number = 1\n",
    "\n",
    "while number <= 24:\n",
    "    if number % 3 == 0:\n",
    "        print(number)\n",
    "    number += 1"
   ]
  },
  {
   "cell_type": "code",
   "execution_count": 39,
   "metadata": {},
   "outputs": [
    {
     "name": "stdout",
     "output_type": "stream",
     "text": [
      "The count is: 0\n",
      "The count is: 2\n",
      "The count is: 4\n",
      "The count is: 6\n",
      "The count is: 8\n",
      "The count is: 10\n",
      "The count is: 12\n",
      "The count is: 14\n",
      "The count is: 16\n",
      "The count is: 18\n"
     ]
    }
   ],
   "source": [
    "count = 0\n",
    "\n",
    "while True:  # Infinite loop to mimic 'do'\n",
    "    print(\"The count is:\", count)\n",
    "    count += 2  # Increment the count\n",
    "    \n",
    "    # Check condition at the end (like in a do-while loop)\n",
    "    if count >= 20:\n",
    "        break  # Exit the loop when the condition is met\n"
   ]
  },
  {
   "cell_type": "code",
   "execution_count": 14,
   "metadata": {},
   "outputs": [
    {
     "name": "stdout",
     "output_type": "stream",
     "text": [
      "Flipped: heads\n",
      "Landed on heads!\n"
     ]
    }
   ],
   "source": [
    "import random\n",
    "\n",
    "flip = \"\"\n",
    "\n",
    "while flip != \"heads\":\n",
    "    flip = random.choice([\"heads\", \"tails\"])\n",
    "    print(f\"Flipped: {flip}\")\n",
    "\n",
    "print(\"Landed on heads!\")"
   ]
  },
  {
   "cell_type": "code",
   "execution_count": 41,
   "metadata": {},
   "outputs": [
    {
     "name": "stdout",
     "output_type": "stream",
     "text": [
      "My To-Do List:\n",
      "1. Finish homework\n",
      "2. Eat dinner\n",
      "3. Play football\n",
      "4. Shower\n",
      "5. Sleep\n"
     ]
    }
   ],
   "source": [
    "# List of tasks\n",
    "tasks = [\n",
    "    \"Finish homework\",\n",
    "    \"Eat dinner\",\n",
    "    \"Play football\",\n",
    "    \"Shower\",\n",
    "    \"Sleep\"\n",
    "]\n",
    "\n",
    "# Function to display tasks with indices\n",
    "def display_tasks():\n",
    "    print(\"My To-Do List:\")\n",
    "    for index in range(len(tasks)):\n",
    "        print(f\"{index + 1}. {tasks[index]}\")  # Display task with its index\n",
    "\n",
    "# Call the function\n",
    "display_tasks()"
   ]
  },
  {
   "cell_type": "code",
   "execution_count": 28,
   "metadata": {
    "vscode": {
     "languageId": "javascript"
    }
   },
   "outputs": [
    {
     "data": {
      "application/javascript": "// List of tasks\nconst tasks = [\n    \"Finish homework\",\n    \"Clean the room\",\n    \"Go grocery shopping\",\n    \"Read a book\",\n    \"Exercise\"\n];\n\n// Function to display tasks with indices\nfunction displayTasks() {\n    console.log(\"Your To-Do List:\");\n    for (let index = 0; index < tasks.length; index++) {\n        console.log(`${index + 1}. ${tasks[index]}`); // Display task with its index\n    }\n}\n\n// Call the function\ndisplayTasks();\n",
      "text/plain": [
       "<IPython.core.display.Javascript object>"
      ]
     },
     "metadata": {},
     "output_type": "display_data"
    }
   ],
   "source": [
    "%%javascript\n",
    "// List of tasks\n",
    "const tasks = [\n",
    "    \"Finish homework\",\n",
    "    \"Eat Dinner\",\n",
    "    \"Play football\",\n",
    "    \"Shower\",\n",
    "    \"Sleep\"\n",
    "];\n",
    "\n",
    "// Function to display tasks with indices\n",
    "function displayTasks() {\n",
    "    console.log(\"Your To-Do List:\");\n",
    "    for (let index = 0; index < tasks.length; index++) {\n",
    "        console.log(`${index + 1}. ${tasks[index]}`); // Display task with its index\n",
    "    }\n",
    "}\n",
    "\n",
    "// Call the function\n",
    "displayTasks();"
   ]
  },
  {
   "cell_type": "code",
   "execution_count": 2,
   "metadata": {},
   "outputs": [
    {
     "name": "stdout",
     "output_type": "stream",
     "text": [
      "1\n",
      "3\n",
      "5\n",
      "7\n",
      "9\n"
     ]
    }
   ],
   "source": [
    "for i in range(10):\n",
    "    if i % 2 == 0:  \n",
    "        continue  \n",
    "    print(i)  \n"
   ]
  }
 ],
 "metadata": {
  "kernelspec": {
   "display_name": "venv",
   "language": "python",
   "name": "python3"
  },
  "language_info": {
   "codemirror_mode": {
    "name": "ipython",
    "version": 3
   },
   "file_extension": ".py",
   "mimetype": "text/x-python",
   "name": "python",
   "nbconvert_exporter": "python",
   "pygments_lexer": "ipython3",
   "version": "3.12.5"
  }
 },
 "nbformat": 4,
 "nbformat_minor": 2
}
