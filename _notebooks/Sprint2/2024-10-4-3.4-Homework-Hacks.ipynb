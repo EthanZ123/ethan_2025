{
 "cells": [
  {
   "cell_type": "markdown",
   "metadata": {},
   "source": [
    "---\n",
    "layout: post \n",
    "title: 3.4 Homework Hacks \n",
    "description: Homework Hacks\n",
    "courses: {csp: {week: 1} }\n",
    "comments: true \n",
    "sticky_rank: 1 \n",
    "---"
   ]
  },
  {
   "cell_type": "code",
   "execution_count": 4,
   "metadata": {
    "vscode": {
     "languageId": "javascript"
    }
   },
   "outputs": [
    {
     "data": {
      "application/javascript": "// Define first and last names\nlet firstName = \"Alice\";\nlet lastName = \"Smith\";\n\n// Define the phrases\nlet phraseOne = \"A journey of a thousand miles begins with a single step\";\nlet phraseTwo = \"Every day is a new beginning, take a deep breath and start again\";\n\n// Combine to create a greeting message\nlet greeting = `Hello, ${firstName} ${lastName}! Let's embark on our journey: \"${phraseOne}\" and remember, \"${phraseTwo}\"`;\n\n// Output the greeting\nconsole.log(greeting);\n",
      "text/plain": [
       "<IPython.core.display.Javascript object>"
      ]
     },
     "metadata": {},
     "output_type": "display_data"
    }
   ],
   "source": [
    "%%js\n",
    "// Define first and last names\n",
    "let firstName = \"Alice\";\n",
    "let lastName = \"Smith\";\n",
    "\n",
    "// Define the phrases\n",
    "let phraseOne = \"A journey of a thousand miles begins with a single step\";\n",
    "let phraseTwo = \"Every day is a new beginning, take a deep breath and start again\";\n",
    "\n",
    "// Combine to create a greeting message\n",
    "let greeting = `Hello, ${firstName} ${lastName}! Let's embark on our journey: \"${phraseOne}\" and remember, \"${phraseTwo}\"`;\n",
    "\n",
    "// Output the greeting\n",
    "console.log(greeting);\n"
   ]
  },
  {
   "cell_type": "code",
   "execution_count": 9,
   "metadata": {},
   "outputs": [
    {
     "name": "stdout",
     "output_type": "stream",
     "text": [
      "False\n"
     ]
    }
   ],
   "source": [
    "def is_palindrome(s):\n",
    "    cleaned = ''.join(char.lower() for char in s if char.isalnum())\n",
    "    return cleaned == cleaned[::-1]\n",
    "\n",
    "# Example usage\n",
    "input_string = \"Watermelon is best fruit\"\n",
    "print(is_palindrome(input_string))  # Output: True\n"
   ]
  }
 ],
 "metadata": {
  "kernelspec": {
   "display_name": "venv",
   "language": "python",
   "name": "python3"
  },
  "language_info": {
   "codemirror_mode": {
    "name": "ipython",
    "version": 3
   },
   "file_extension": ".py",
   "mimetype": "text/x-python",
   "name": "python",
   "nbconvert_exporter": "python",
   "pygments_lexer": "ipython3",
   "version": "3.12.5"
  }
 },
 "nbformat": 4,
 "nbformat_minor": 2
}
