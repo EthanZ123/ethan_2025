{
 "cells": [
  {
   "cell_type": "markdown",
   "metadata": {},
   "source": [
    "---\n",
    "layout: post \n",
    "title: CPT/PPR Blog\n",
    "description: CPT/PPR Blog\n",
    "courses: {csp: {week: 1} }\n",
    "comments: true \n",
    "sticky_rank: 1 \n",
    "---"
   ]
  },
  {
   "cell_type": "markdown",
   "metadata": {},
   "source": [
    "# Collaboration: Big Idea 1.1 & 1.2: Collaboration, Program Function, and Purpose\n",
    "\n",
    "By implementing agile methodologies like SCRUM and Kanban, I was able to keep track of project progress and manage tasks efficiently. The Kanban boards helped me break down tasks into manageable chunks, ensuring that both frontend and backend developments moved forward smoothly. I maintained clear burndown lists, which allowed me to track iterations and issues for both the frontend and backend features. This approach helped me stay organized and focused, contributing to the successful development of the leadership application."
   ]
  },
  {
   "cell_type": "markdown",
   "metadata": {},
   "source": [
    "# Organization: Big Idea 1.3: Program Design and Development\n",
    "\n",
    "Frontend and Backend Integration: I ensured a seamless connection between the frontend and backend. On the frontend, I focused on designing an interactive and user-friendly interface, using buttons that triggered the application form’s display. This created a more engaging experience while keeping the interface uncluttered. On the backend, I implemented a Leadership model using Flask and SQLAlchemy to manage leadership applications. I also integrated dynamic data fetching from an external API, which helped maintain up-to-date information in the system. This ensured the frontend and backend worked cohesively together.\n",
    "\n",
    "Improving Applications: Throughout the project, I made improvements based on previous projects and user feedback. For example, I ensured that the CSS matched the existing aesthetic of the website by refining the button styles, applying a red gradient to make them pop, and ensuring consistency across the platform. I also took extra care to make the pagination button work seamlessly, even modifying the backend model to allow this feature to function properly.\n",
    "\n",
    "Code Comments and Style: I made sure to adhere to coding best practicesa to maintain clean, readable, and organized code. By adding comments to my code, I was able to clarify complex logic and ensure that anyone reviewing the code could easily understand how the different pieces fit together."
   ]
  },
  {
   "cell_type": "markdown",
   "metadata": {},
   "source": [
    "# Debugging: Big Idea 1.4: Debugging Code and Fixing Errors\n",
    "Backend Debugging: When working on the backend, I used error handling techniques to ensure that user inputs were validated, preventing incomplete submissions and duplicate records. I also leveraged tools like Flask Blueprints to modularize the backend and ensure that different parts of the application could scale and be debugged independently.\n",
    "\n",
    "Frontend Debugging: On the frontend, I utilized browser inspect tools to identify and fix issues related to button styling and responsiveness. This helped me ensure that form elements were clear and user-friendly across multiple devices, improving usability.\n",
    "\n",
    "End-to-End Tracing: Throughout the development process, I made sure the frontend, backend, and database worked together smoothly. I traced the user’s interaction with the form, ensuring that the data collected was processed by the backend, stored in the database, and correctly displayed back to the user."
   ]
  },
  {
   "cell_type": "markdown",
   "metadata": {},
   "source": [
    "# Database: Big Idea 2: Data\n",
    "Database Management with SQLite: I used SQLAlchemy to create and manage a database that stored leadership applications. I designed the database schema to efficiently handle attributes like name, role, and experience, which ensured that data was stored securely and could be accessed quickly.\n",
    "\n",
    "Data Retrieval and Display: After submitting an application, users could view, edit, or delete their submissions, and I ensured the data was fetched dynamically from the database. This functionality was essential to making the leadership application interactive, and it worked seamlessly thanks to the integration between the frontend and backend."
   ]
  },
  {
   "cell_type": "markdown",
   "metadata": {},
   "source": [
    "# Deployment: Big Idea 4: Internet\n",
    "Deployment Strategies: I played a major role in understanding and handling deployment. I worked with AWS Route 53 to configure a subdomain and ensure that the site could scale. By selecting the appropriate port and configuring deployment on cloud servers, I made sure that the application could handle multiple users and maintain performance.\n",
    "\n",
    "Domain Name System (DNS): By configuring the subdomain with AWS Route 53, I learned how DNS works in practice, which was a critical step in ensuring our website was publicly accessible. This was a key part of the deployment process that expanded the reach of our application.\n",
    "\n",
    "HTTP and RESTful APIs: I built the necessary API endpoints using Flask to allow communication between the frontend and backend. These RESTful APIs were responsible for handling requests like submitting leadership applications and retrieving user data, making them essential for the application’s functionality.\n",
    "\n",
    "Monitoring and Logging: After deployment, I used Cockpit to monitor the site’s performance and check for any potential issues. This allowed me to troubleshoot problems and ensure that the application was functioning as expected."
   ]
  },
  {
   "cell_type": "markdown",
   "metadata": {},
   "source": [
    "# CPT Requirements \n",
    "\n",
    "## User input (via form submission):\n",
    " - User Action: The form collects input from the user when they apply for a leadership role.\n",
    " - Input Elements:\n",
    "   - Text inputs (applicantName, role)\n",
    "   - Select dropdown (club)\n",
    "   - Textarea (experience)\n",
    " - The form is triggered when the user clicks the \"Apply for Leadership\" button (show-form-btn).\n",
    " - Event Listener: The form submission is handled using an event listener (leadershipForm.addEventListener('submit', ...)), which triggers when the user submits the form, sending the data to the server to create or update an application."
   ]
  },
  {
   "cell_type": "code",
   "execution_count": null,
   "metadata": {
    "vscode": {
     "languageId": "plaintext"
    }
   },
   "outputs": [],
   "source": [
    "<form id=\"leadershipForm\">\n",
    "   <div class=\"form-group\">\n",
    "       <label for=\"applicantName\">Your Name</label>\n",
    "       <input type=\"text\" id=\"applicantName\" placeholder=\"Enter your full name\" required>\n",
    "   </div>\n",
    "   <div class=\"form-group\">\n",
    "       <label for=\"role\">Role</label>\n",
    "       <input type=\"text\" id=\"role\" placeholder=\"Enter the role you are applying for\" required>\n",
    "   </div>\n",
    "   <div class=\"form-group\">\n",
    "       <label for=\"club\">Club</label>\n",
    "       <select id=\"club\" required>\n",
    "           <option value=\"\">Select a Club</option>\n",
    "           <!-- Club options will be dynamically populated -->\n",
    "       </select>\n",
    "   </div>\n",
    "   <div class=\"form-group\">\n",
    "       <label for=\"experience\">Leadership Experience</label>\n",
    "       <textarea id=\"experience\" placeholder=\"Describe your leadership experience\" rows=\"4\" required></textarea>\n",
    "   </div>\n",
    "   <button type=\"submit\" class=\"submit-btn\">Submit Application</button>\n",
    "</form>\n"
   ]
  },
  {
   "cell_type": "markdown",
   "metadata": {},
   "source": [
    "# Lists\n",
    "\n",
    "The clubs.forEach() code is using a list (array) to handle multiple data elements and apply a specific operation (populating the dropdown) on each element of the list.The code loops through an array of clubs and creates an option for each club. It sets the club’s name as both the value and the text shown in the dropdown. Each option is then added to the dropdown menu, allowing users to select a club when filling out the form."
   ]
  },
  {
   "cell_type": "code",
   "execution_count": null,
   "metadata": {
    "vscode": {
     "languageId": "plaintext"
    }
   },
   "outputs": [],
   "source": [
    "clubs.forEach(club => {\n",
    "    const option = document.createElement('option');\n",
    "    option.value = club.name;\n",
    "    option.textContent = club.name;\n",
    "    clubSelect.appendChild(option);\n",
    "});"
   ]
  },
  {
   "cell_type": "markdown",
   "metadata": {},
   "source": [
    "# Procedure that Defines Purpose\n",
    "\n",
    "The function is named fetchClubNames. This procedure is responsible for fetching a list of clubs from a server and populating a dropdown menu with the club names. This is an essential part of the leadership application process where users need to select a club from a list. Therefore, it contributes directly to the program's intended purpose of submitting a leadership application.\n",
    "\n",
    "The code includes an algorithm with sequencing, selection, and iteration. It first sends a GET request to fetch data, checks if the response is successful, and then processes the clubs array. The iteration is done with .forEach(), which loops through the clubs array and generates dropdown options for each club.\n",
    "\n",
    "The fetchClubNames function is a student-developed procedure that handles the process of fetching and displaying club names in the dropdown. It doesn’t call other custom functions but serves as the primary procedure for interacting with the club data.\n",
    "\n",
    "In terms of output, the function updates the webpage visually by dynamically adding option elements to the dropdown. If an error occurs, the function provides feedback to the user with an alert and logs the error to the console, allowing the user to be informed of any issues during the data fetching process."
   ]
  },
  {
   "cell_type": "code",
   "execution_count": null,
   "metadata": {
    "vscode": {
     "languageId": "plaintext"
    }
   },
   "outputs": [],
   "source": [
    "// This is the procedure\n",
    "async function fetchClubNames() {\n",
    "    try {\n",
    "        const response = await fetch(${pythonURI}/api/clubs, {\n",
    "            method: 'GET',\n",
    "            headers: {\n",
    "                'Content-Type': 'application/json',\n",
    "            }\n",
    "        });\n",
    "\n",
    "        if (!response.ok) {\n",
    "            throw new Error(Failed to fetch clubs: ${response.status} ${response.statusText});\n",
    "        }\n",
    "\n",
    "        const clubs = await response.json();\n",
    "\n",
    "        // Clear existing options\n",
    "        clubSelect.innerHTML = '<option value=\"\">Select a Club</option>';\n",
    "\n",
    "        // Populate dropdown\n",
    "        clubs.forEach(club => {\n",
    "            const option = document.createElement('option');\n",
    "            option.value = club.name;\n",
    "            option.textContent = club.name;\n",
    "            clubSelect.appendChild(option);\n",
    "        });\n",
    "    } catch (error) {\n",
    "        console.error(\"Error fetching club names:\", error);\n",
    "        alert(\"An error occurred while fetching club names. Check the console for details.\");\n",
    "    }\n",
    "}\n"
   ]
  },
  {
   "cell_type": "markdown",
   "metadata": {},
   "source": [
    "# PPR"
   ]
  },
  {
   "cell_type": "markdown",
   "metadata": {},
   "source": [
    "## PPR Requirements: \n",
    "- A list being created \n",
    "- A list being processed \n",
    "- A function \n",
    "- A call to function "
   ]
  },
  {
   "cell_type": "markdown",
   "metadata": {},
   "source": [
    "## A list being created "
   ]
  },
  {
   "cell_type": "code",
   "execution_count": null,
   "metadata": {
    "vscode": {
     "languageId": "plaintext"
    }
   },
   "outputs": [],
   "source": [
    "return jsonify([leadership.to_dict() for leadership in leaderships]), 200"
   ]
  },
  {
   "cell_type": "markdown",
   "metadata": {},
   "source": [
    "Leadership.query.all() retrieves all leadership records from the database.\n",
    "[leadership.to_dict() for leadership in leaderships] creates a list comprehension, which converts each Leadership object into a dictionary using its to_dict() method.\n",
    "The list of dictionaries is then returned as a JSON response."
   ]
  },
  {
   "cell_type": "markdown",
   "metadata": {},
   "source": [
    "# Student Developed Feature"
   ]
  },
  {
   "cell_type": "code",
   "execution_count": null,
   "metadata": {
    "vscode": {
     "languageId": "plaintext"
    }
   },
   "outputs": [],
   "source": [
    "leadership_api.route('', methods=['GET'])\n",
    "def get_leaderships():\n",
    "    \"\"\"\n",
    "    Endpoint to fetch all leadership applications.\n",
    "    \"\"\"\n",
    "    leaderships = Leadership.query.all()\n",
    "    return jsonify([leadership.to_dict() for leadership in leaderships]), 200 "
   ]
  },
  {
   "cell_type": "markdown",
   "metadata": {},
   "source": [
    "My function get_leaderships() retrieves all leadership applications from the database.\n",
    "The function create_leadership() handles creating a new leadership record.\n",
    "delete_leadership(id) and update_leadership(id) handle deletion and updates.\n",
    "\n",
    "These functions are called whenever a client makes an HTTP request to my API\n",
    "\n",
    "My frontend JavaScript calls fetchAndDisplayApplications(), which makes a GET request to '/api/leadership'.\n",
    "\n",
    "That request is handled by the get_leaderships() function in my backend:\n",
    "\n",
    "Similarly, DELETE and PUT requests call delete_leadership(id) and update_leadership(id).\n",
    "\n",
    "---"
   ]
  }
 ],
 "metadata": {
  "language_info": {
   "name": "python"
  }
 },
 "nbformat": 4,
 "nbformat_minor": 2
}
