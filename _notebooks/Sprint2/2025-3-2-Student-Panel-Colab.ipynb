{
 "cells": [
  {
   "cell_type": "markdown",
   "metadata": {},
   "source": [
    "---\n",
    "layout: post \n",
    "title: Feature Blog Writeup\n",
    "description: Feature Blog Writeup\n",
    "courses: {csp: {week: 1} }\n",
    "comments: true \n",
    "sticky_rank: 1 \n",
    "---"
   ]
  },
  {
   "cell_type": "markdown",
   "metadata": {},
   "source": [
    "# Collaboration in Feature: \n",
    "\n",
    "By implementing agile methodologies like SCRUM and Kanban, I was able to keep track of project progress and manage tasks efficiently. The Kanban boards helped me break down tasks into manageable chunks, ensuring that both frontend and backend developments moved forward smoothly. I maintained clear burndown lists, which allowed me to track iterations and issues for both the frontend and backend features. This approach helped me stay organized and focused, contributing to the successful development of the leadership application."
   ]
  },
  {
   "cell_type": "markdown",
   "metadata": {},
   "source": [
    "# Organization \n",
    "\n",
    "Frontend and Backend Integration: I ensured a seamless connection between the frontend and backend. On the frontend, I focused on designing an interactive and user-friendly interface, using buttons that triggered the application form’s display. This created a more engaging experience while keeping the interface uncluttered. On the backend, I implemented a Leadership model using Flask and SQLAlchemy to manage leadership applications. I also integrated dynamic data fetching from an external API, which helped maintain up-to-date information in the system. This ensured the frontend and backend worked cohesively together.\n",
    "\n",
    "Improving Applications: Throughout the project, I made improvements based on previous projects and user feedback. For example, I ensured that the CSS matched the existing aesthetic of the website by refining the button styles, applying a red gradient to make them pop, and ensuring consistency across the platform. I also took extra care to make the pagination button work seamlessly, even modifying the backend model to allow this feature to function properly.\n",
    "\n",
    "Code Comments and Style: I made sure to adhere to coding best practicesa to maintain clean, readable, and organized code. By adding comments to my code, I was able to clarify complex logic and ensure that anyone reviewing the code could easily understand how the different pieces fit together."
   ]
  },
  {
   "cell_type": "markdown",
   "metadata": {},
   "source": [
    "# Debugging \n",
    "\n",
    "Backend Debugging: When working on the backend, I used error handling techniques to ensure that user inputs were validated, preventing incomplete submissions and duplicate records. I also leveraged tools like Flask Blueprints to modularize the backend and ensure that different parts of the application could scale and be debugged independently.\n",
    "\n",
    "Frontend Debugging: On the frontend, I utilized browser inspect tools to identify and fix issues related to button styling and responsiveness. This helped me ensure that form elements were clear and user-friendly across multiple devices, improving usability.\n",
    "\n",
    "End-to-End Tracing: Throughout the development process, I made sure the frontend, backend, and database worked together smoothly. I traced the user’s interaction with the form, ensuring that the data collected was processed by the backend, stored in the database, and correctly displayed back to the user."
   ]
  },
  {
   "cell_type": "markdown",
   "metadata": {},
   "source": [
    "# Database\n",
    "\n",
    "Database Management with SQLite: I used SQLAlchemy to create and manage a database that stored leadership applications. I designed the database schema to efficiently handle attributes like name, role, and experience, which ensured that data was stored securely and could be accessed quickly.\n",
    "\n",
    "Data Retrieval and Display: After submitting an application, users could view, edit, or delete their submissions, and I ensured the data was fetched dynamically from the database. This functionality was essential to making the leadership application interactive, and it worked seamlessly thanks to the integration between the frontend and backend."
   ]
  },
  {
   "cell_type": "markdown",
   "metadata": {},
   "source": [
    "# Deployment \n",
    "Deployment Strategies: I played a major role in understanding and handling deployment. I worked with AWS Route 53 to configure a subdomain and ensure that the site could scale. By selecting the appropriate port and configuring deployment on cloud servers, I made sure that the application could handle multiple users and maintain performance.\n",
    "\n",
    "Domain Name System (DNS): By configuring the subdomain with AWS Route 53, I learned how DNS works in practice, which was a critical step in ensuring our website was publicly accessible. This was a key part of the deployment process that expanded the reach of our application.\n",
    "\n",
    "HTTP and RESTful APIs: I built the necessary API endpoints using Flask to allow communication between the frontend and backend. These RESTful APIs were responsible for handling requests like submitting leadership applications and retrieving user data, making them essential for the application’s functionality.\n",
    "\n",
    "Performance Optimization: On both the frontend and backend, I focused on ensuring that the application would run efficiently. On the frontend, I optimized the user interface to be responsive, while on the backend, I worked to ensure data was stored and retrieved efficiently.\n",
    "\n",
    "Monitoring and Logging: After deployment, I used Cockpit to monitor the site’s performance and check for any potential issues. This allowed me to troubleshoot problems and ensure that the application was functioning as expected."
   ]
  }
 ],
 "metadata": {
  "language_info": {
   "name": "python"
  }
 },
 "nbformat": 4,
 "nbformat_minor": 2
}
