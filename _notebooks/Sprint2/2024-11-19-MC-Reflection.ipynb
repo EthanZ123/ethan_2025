{
 "cells": [
  {
   "cell_type": "markdown",
   "metadata": {},
   "source": [
    "---\n",
    "layout: post \n",
    "title: MC Corrections \n",
    "description: Blog\n",
    "courses: {csp: {week: 1} }\n",
    "comments: true \n",
    "sticky_rank: 1 \n",
    "---"
   ]
  },
  {
   "cell_type": "markdown",
   "metadata": {},
   "source": [
    "# My learning: Strenghts and Weaknesses \n",
    "\n",
    "My stregth is understanding the code segments and interpreting them, as I got most of the questions that involve asking how the code functions or how to perform the code. However, my weaknesses are on the more broader aspects of this, as I got several question wrongs that involve specific vocabulary words that I haven't learned yet. Overall, to improve, I should know do more practice MCs to get used to their question styles and to encounter more of the vocabulary words that I do not understand. "
   ]
  },
  {
   "cell_type": "markdown",
   "metadata": {},
   "source": [
    "# Corrections\n",
    "\n",
    "## Question 1\n",
    "\n",
    "<img src=\"{{site.baseurl}}/images/image.png\">\n",
    "\n",
    "I got this wrong because the value of variable First is stored in the temperorary variable and then the value of temp needs to become the value of second. Therefore, the answwer is second<--temp, and not the one that I chose because second does not need to become temp. "
   ]
  },
  {
   "cell_type": "markdown",
   "metadata": {},
   "source": [
    "\n",
    "## Question 3 \n",
    "<img src= \"{{site.baseurl}}/images/notebooks/image copy 22.png\">\n",
    "\n",
    "\n",
    "I got this question wrong because if everybody was in the same place, there would be no need for someone to use a distrubuted approach for multiple groups of people. However, the right answer which is that data should be collected in different locations is correct, as it will be more diverse, which is what citizen science is and it uses the general public "
   ]
  },
  {
   "cell_type": "markdown",
   "metadata": {},
   "source": [
    "\n",
    "## Question 13 \n",
    "\n",
    "<img src= \"{{site.baseurl}}/images/notebooks/image copy 23.png\">\n",
    "\n",
    "The correct answer is that the mobile app release caused a significant shortage in the number of characters in the message. My answer, although it could be proved by the data, the question asks which is MOST consistent with the data, and there is a much drastic decrease in the number of characters, rather than the average number of daily users staying the same. "
   ]
  },
  {
   "cell_type": "markdown",
   "metadata": {},
   "source": [
    "## Question 15\n",
    "\n",
    "<img src= \"{{site.baseurl}}/images/notebooks/image copy 24.png\">\n",
    "\n",
    "The correct answer is D becuase since the website is a licensed website, theey will unlikely be copyrighted for downloading the songs. "
   ]
  },
  {
   "cell_type": "markdown",
   "metadata": {},
   "source": [
    "## Question 19\n",
    "\n",
    "<img src= \"{{site.baseurl}}/images/notebooks/image copy 26.png\">\n",
    "\n",
    "My answer is wrong because the date that the book is published would be helpful for the search, However, the other answer is the correct answer because previous versions does not relate to the specific book that the user is trying to find, therefore it is the correct answer. "
   ]
  },
  {
   "cell_type": "markdown",
   "metadata": {},
   "source": [
    "## Question 20\n",
    "\n",
    "<img src= \"{{site.baseurl}}/images/notebooks/image copy 27.png\">\n",
    "\n",
    "The correct answer is Max (Max (a, b) c). This is because function first takes care of a and b, and finds the higher number between those two, and then the result, whether A or B, will be put into the same function with C. This makes sure that the max number out of all three numbers will be outputted every single time successfully. "
   ]
  },
  {
   "cell_type": "markdown",
   "metadata": {},
   "source": [
    "## Question 21\n",
    "\n",
    "<img src= \"{{site.baseurl}}/images/notebooks/image copy 28.png\">\n",
    "\n",
    "The correct answer makes the robot move forward two times, turn right three times, and move forward again three times. This is becuase this function puts the robot at the gray square. My answer is wrong because turning right only once will make the robot move in the wrong direction. I got this question wrong because of an accidental mistake rather than a conceptual mindunderstanding. "
   ]
  },
  {
   "cell_type": "markdown",
   "metadata": {},
   "source": [
    "## Question 23\n",
    "\n",
    "<img src= \"{{site.baseurl}}/images/notebooks/image copy 29.png\">\n",
    "\n",
    "The correct answer is the only valid option because it is the only one where one path and ONLY one path can be taken to get to each letter P Q R S. The others all have redundant paths that can also be taken. "
   ]
  },
  {
   "cell_type": "markdown",
   "metadata": {},
   "source": [
    "## Question 26\n",
    "\n",
    "<img src= \"{{site.baseurl}}/images/notebooks/image copy 30.png\">\n",
    "\n",
    "My option is wrong because the robot is not able to move at all. The function only works when the robot is able to turn right, and since it isn't, that means the stuff within the loop does not perform at all. The correct answer is A because the move forward function is outside of the loop, so it allows the robot to move. "
   ]
  },
  {
   "cell_type": "markdown",
   "metadata": {},
   "source": [
    "## Question 27\n",
    "\n",
    "<img src= \"{{site.baseurl}}/images/notebooks/image copy 31.png\">\n",
    "\n",
    "Option B is the correct answer because it allows the code to determine whether the user wins or not, and it outputs the statement if it does. This is the only spot where the code works as intended. "
   ]
  },
  {
   "cell_type": "markdown",
   "metadata": {},
   "source": [
    "## Question 29\n",
    "\n",
    "<img src= \"{{site.baseurl}}/images/notebooks/image copy 32.png\">\n",
    "\n",
    "I got this question wrong because the AND gate outputs true when both inputs are true, the first OR gate outputs true when one input is true, and the second OR gate also outputs true when one input is true. Therefore, the final output is true, regardless of the values of C and D.\n"
   ]
  },
  {
   "cell_type": "markdown",
   "metadata": {},
   "source": [
    "## Question 30\n",
    "\n",
    "<img src= \"{{site.baseurl}}/images/notebooks/image copy 33.png\">\n",
    "\n",
    "The Analysis procedure takes 1 hour to execute. Since the code iterates over 4 genres and calls the Analysis procedure for each, the total execution time is approximately 5 hours."
   ]
  },
  {
   "cell_type": "markdown",
   "metadata": {},
   "source": [
    "## Question 33\n",
    "\n",
    "<img src= \"{{site.baseurl}}/images/notebooks/image copy 34.png\">\n",
    "\n",
    "This option is correct. The flowchart is supposed to set include to true whenever floor is greater than 1 0 or bedrooms equal 3, and sets include to false otherwise. Therefore, the algorithm is equivalent to option A and not B. This one may have been a conceptual mistake. "
   ]
  },
  {
   "cell_type": "markdown",
   "metadata": {},
   "source": [
    "## Question 34\n",
    "\n",
    "<img src= \"{{site.baseurl}}/images/notebooks/image copy 35.png\">\n",
    "\n",
    "The correct answer is D because nothing ever changes about the numnber of predators. On the other hand, there is a line of code that changes the number of mice day to day so my answer is incorrect. "
   ]
  },
  {
   "cell_type": "markdown",
   "metadata": {},
   "source": [
    "## Question 37\n",
    "\n",
    "<img src= \"{{site.baseurl}}/images/notebooks/image copy 36.png\">\n",
    "\n",
    "The correct answer is C because they both provide the average. Originally I was confused about the first code. But now I know that when you input a series of numbers, it does each number and divides it by the number of number in the series and then it adds them up. That is equivalent to adding all the numbers up and dividing them by the number of numbers in the series. "
   ]
  },
  {
   "cell_type": "markdown",
   "metadata": {},
   "source": [
    "## Question 43\n",
    "\n",
    "<img src= \"{{site.baseurl}}/images/notebooks/image copy 37.png\">\n",
    "\n",
    "A is correct because it does run at a reasonable time, as the time is the items^2 and it stays consistent throughout the data table. "
   ]
  },
  {
   "cell_type": "markdown",
   "metadata": {},
   "source": [
    "## Question 44\n",
    "\n",
    "<img src= \"{{site.baseurl}}/images/notebooks/image copy 38.png\">\n",
    "\n",
    "The answer is only 2 because it is the only one that exceeds the number 15. 4 bytes means 2^4 which is 16 so it has to be 15 or less so it won't overflow. "
   ]
  },
  {
   "cell_type": "markdown",
   "metadata": {},
   "source": [
    "## Question 48\n",
    "\n",
    "<img src= \"{{site.baseurl}}/images/notebooks/image copy 39.png\">\n",
    "\n",
    "The correct answer is D because it is the only one that makes it so that 75% of the results go to successful. This is because if the program generates a random number between 1 and 100 that is less than or equal to 75, then the successful count will go up by one, and if any other number is generated, then unsuccessful will go up. "
   ]
  },
  {
   "cell_type": "markdown",
   "metadata": {},
   "source": [
    "## Question 49\n",
    "\n",
    "<img src= \"{{site.baseurl}}/images/notebooks/image copy 40.png\">\n",
    "\n",
    "This is the correct answer because for example, when you have 35 and 50, end - start is 15, 15/5 is 3, and three +1 is equal to four, and then you have four numbers, 35, 40, 45, 50. "
   ]
  },
  {
   "cell_type": "markdown",
   "metadata": {},
   "source": [
    "## Question 50\n",
    "\n",
    "<img src= \"{{site.baseurl}}/images/notebooks/image copy 41.png\">\n",
    "\n",
    "B is the correct answer because this act puts a linear search, which compares each element with a specific target and it is the only one that does so. "
   ]
  },
  {
   "cell_type": "markdown",
   "metadata": {},
   "source": [
    "## Question 52\n",
    "\n",
    "<img src= \"{{site.baseurl}}/images/notebooks/image copy 42.png\">\n",
    "\n",
    "The correct answer is D because both options perform the steps in the right order. This is because the shorten step has to be after keep palindrome, which both of them contain. "
   ]
  },
  {
   "cell_type": "markdown",
   "metadata": {},
   "source": [
    "## Question 58\n",
    "\n",
    "<img src= \"{{site.baseurl}}/images/notebooks/image copy 43.png\">\n",
    "\n",
    "The answer is A because this question is an example of the ones with vocabulary I dont' understand. I understand now that crowdsourcing is the practice of obtaining information or input into a task or project by enlisting the services of a large number of people, either paid or unpaid, typically via the internet.\n"
   ]
  },
  {
   "cell_type": "markdown",
   "metadata": {},
   "source": [
    "## Question 60\n",
    "\n",
    "<img src= \"{{site.baseurl}}/images/notebooks/image copy 44.png\">\n",
    "\n",
    "\n",
    "This is also some sort of conceptual misunderstanding. I understand now that abstraction can be used to replace string variables with a list of strings called names. "
   ]
  },
  {
   "cell_type": "markdown",
   "metadata": {},
   "source": [
    "## Question 63\n",
    "\n",
    "<img src= \"{{site.baseurl}}/images/notebooks/image copy 45.png\">\n",
    "\n",
    "\n",
    "The answer is also D because  If count is incremented outside the IF statement, it will increase for all entries in the list instead of just the prime entries."
   ]
  },
  {
   "cell_type": "markdown",
   "metadata": {},
   "source": [
    "## Question 64\n",
    "\n",
    "<img src= \"{{site.baseurl}}/images/notebooks/image copy 46.png\">\n",
    "\n",
    "This was again a vocabulary word that I didn't understand. I know now that cloud computing is the delivery of computing services like storage, servers, databases, software, and analytics over the internet (\"the cloud\") instead of using local hardware."
   ]
  },
  {
   "cell_type": "markdown",
   "metadata": {},
   "source": [
    "## Question 65\n",
    "\n",
    "<img src= \"{{site.baseurl}}/images/notebooks/image copy 47.png\">\n",
    "\n",
    "\n",
    "The answer is also B and not A because when y is negative, it isn't possible to run because the count begins at zero. "
   ]
  },
  {
   "cell_type": "markdown",
   "metadata": {},
   "source": [
    "## Question 66\n",
    "\n",
    "<img src= \"{{site.baseurl}}/images/notebooks/image copy 48.png\">\n",
    "\n",
    "The answer is also D because the number after 40, 30, is the first number in the list that is less than fourty but it is also not the least in the sequence, making it correct. "
   ]
  }
 ],
 "metadata": {
  "language_info": {
   "name": "python"
  }
 },
 "nbformat": 4,
 "nbformat_minor": 2
}
