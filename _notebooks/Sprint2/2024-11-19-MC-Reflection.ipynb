{
 "cells": [
  {
   "cell_type": "markdown",
   "metadata": {},
   "source": [
    "---\n",
    "layout: post \n",
    "title: MC Reflection\n",
    "description: MC Reflection\n",
    "courses: {csp: {week: 1} }\n",
    "comments: true \n",
    "sticky_rank: 1 \n",
    "---"
   ]
  },
  {
   "cell_type": "markdown",
   "metadata": {},
   "source": [
    "# My learning: Strenghts and Weaknesses \n",
    "\n",
    "My stregth is understanding the code segments and interpreting them, as I got most of the questions that involve asking how the code functions or how to perform the code. However, my weaknesses are on the more broader aspects of this, as I got several question wrongs that involve specific vocabulary words that I haven't learned yet. Overall, to improve, I should know do more practice MCs to get used to their question styles and to encounter more of the vocabulary words that I do not understand. "
   ]
  },
  {
   "cell_type": "markdown",
   "metadata": {},
   "source": [
    "# Corrections\n",
    "\n",
    "## Question 1\n",
    "\n",
    "<img src=\"{{site.baseurl}}/images/image.png\">\n",
    "\n",
    "I got this wrong because the value of variable First is stored in the temperorary variable and then the value of temp needs to become the value of second. Therefore, the answwer is second<--temp, and not the one that I chose because second does not need to become temp. "
   ]
  },
  {
   "cell_type": "markdown",
   "metadata": {},
   "source": [
    "\n",
    "## Question 3 \n",
    "\n",
    "<img src= \"{{site.baseurl}}/images/notebooks/image copy 22.png\">\n",
    "\n",
    "I got this question wrong because if everybody was in the same place, there would be no need for someone to use a distrubuted approach for multiple groups of people. However, the right answer which is that data should be collected in different locations is correct, as it will be more diverse, which is what citizen science is and it uses the general public "
   ]
  },
  {
   "cell_type": "markdown",
   "metadata": {},
   "source": [
    "\n",
    "## Question 13 \n",
    "\n",
    "<img src= \"{{site.baseurl}}/images/notebooks/image copy 23.png\">\n",
    "\n",
    "The correct answer is that the mobile app release caused a significant shortage in the number of characters in the message. My answer, although it could be proved by the data, the question asks which is MOST consistent with the data, and there is a much drastic decrease in the number of characters, rather than the average number of daily users staying the same. "
   ]
  },
  {
   "cell_type": "markdown",
   "metadata": {},
   "source": [
    "## Question 15\n",
    "\n",
    "<img src= \"{{site.baseurl}}/images/notebooks/image copy 24.png\">\n",
    "\n",
    "The correct answer is D becuase since the website is a licensed website, theey will unlikely be copyrighted for downloading the songs. "
   ]
  },
  {
   "cell_type": "markdown",
   "metadata": {},
   "source": [
    "## Question 19\n",
    "\n",
    "<img src= \"{{site.baseurl}}/images/notebooks/image copy 26.png\">\n",
    "\n",
    "My answer is wrong because the date that the book is published would be helpful for the search, However, the other answer is the correct answer because previous versions does not relate to the specific book that the user is trying to find, therefore it is the correct answer. "
   ]
  },
  {
   "cell_type": "markdown",
   "metadata": {},
   "source": [
    "## Question 20\n",
    "\n",
    "<img src= \"{{site.baseurl}}/images/notebooks/image copy 27.png\">\n",
    "\n",
    "The correct answer is Max (Max (a, b) c). This is because function first takes care of a and b, and finds the higher number between those two, and then the result, whether A or B, will be put into the same function with C. This makes sure that the max number out of all three numbers will be outputted every single time successfully. "
   ]
  },
  {
   "cell_type": "markdown",
   "metadata": {},
   "source": [
    "## Question 21\n",
    "\n",
    "<img src= \"{{site.baseurl}}/images/notebooks/image copy 28.png\">\n",
    "\n",
    "The correct answer makes the robot move forward two times, turn right three times, and move forward again three times. This is becuase this function puts the robot at the gray square. My answer is wrong because turning right only once will make the robot move in the wrong direction. I got this question wrong because of an accidental mistake rather than a conceptual mindunderstanding. "
   ]
  }
 ],
 "metadata": {
  "language_info": {
   "name": "python"
  }
 },
 "nbformat": 4,
 "nbformat_minor": 2
}
