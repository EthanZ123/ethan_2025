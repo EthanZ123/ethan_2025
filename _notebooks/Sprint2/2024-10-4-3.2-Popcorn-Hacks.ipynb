{
 "cells": [
  {
   "cell_type": "markdown",
   "metadata": {},
   "source": [
    "---\n",
    "layout: post \n",
    "title: 3.2 Popcorn \n",
    "description: Popcorn Hacks\n",
    "courses: {csp: {week: 1} }\n",
    "comments: true \n",
    "sticky_rank: 1 \n",
    "---"
   ]
  },
  {
   "cell_type": "code",
   "execution_count": 2,
   "metadata": {},
   "outputs": [
    {
     "name": "stdout",
     "output_type": "stream",
     "text": [
      "2\n"
     ]
    }
   ],
   "source": [
    "bestDictionaryEver = {\"peach\": 1, \"watermelon\": 2, \"apricot\": 3}\n",
    "print(bestDictionaryEver[\"apricot\"]) #any key will do"
   ]
  },
  {
   "cell_type": "code",
   "execution_count": 2,
   "metadata": {},
   "outputs": [
    {
     "name": "stdout",
     "output_type": "stream",
     "text": [
      "3\n"
     ]
    }
   ],
   "source": [
    "number1 = int(input(\"Please Enter the First Number Here: \"))\n",
    "number2 = int(input(\"Please Enter the Second Number Here: \"))\n",
    "mathFunction = input(\"Please Enter the function here: \")\n",
    "\n",
    "if mathFunction == \"+\":\n",
    "    print(number1 + number2)\n",
    "elif mathFunction == \"-\":\n",
    "    print(number1 - number2)\n",
    "elif mathFunction == \"*\":\n",
    "    print(number1 * number2)\n",
    "elif mathFunction == \"/\":\n",
    "    print(number1 / number2)\n",
    "    "
   ]
  },
  {
   "cell_type": "code",
   "execution_count": 3,
   "metadata": {},
   "outputs": [
    {
     "name": "stdout",
     "output_type": "stream",
     "text": [
      "['hellohellohellohellohello', 'worldworldworldworldworld', 'PythonPythonPythonPythonPython']\n"
     ]
    }
   ],
   "source": [
    "def repeat_strings(strings, n):\n",
    "    return [s * n for s in strings]\n",
    "\n",
    "original_list = [\"hello\", \"world\", \"Python\"]\n",
    "n = 5\n",
    "result = repeat_strings(original_list, n)\n",
    "print(result) \n"
   ]
  },
  {
   "cell_type": "code",
   "execution_count": 7,
   "metadata": {},
   "outputs": [
    {
     "name": "stdout",
     "output_type": "stream",
     "text": [
      "True\n",
      "False\n"
     ]
    }
   ],
   "source": [
    "def has_common_element(set1, set2):\n",
    "    # Check if there is any intersection between the two sets\n",
    "    return not set1.isdisjoint(set2)\n",
    "\n",
    "# Example usage:\n",
    "set_a = {1, 2, 3, 4}\n",
    "set_b = {3, 5, 6}\n",
    "\n",
    "result = has_common_element(set_a, set_b)\n",
    "print(result)  \n",
    "\n",
    "set_c = {7, 8, 9}\n",
    "result = has_common_element(set_a, set_c)\n",
    "print(result) 5\n"
   ]
  }
 ],
 "metadata": {
  "kernelspec": {
   "display_name": "venv",
   "language": "python",
   "name": "python3"
  },
  "language_info": {
   "codemirror_mode": {
    "name": "ipython",
    "version": 3
   },
   "file_extension": ".py",
   "mimetype": "text/x-python",
   "name": "python",
   "nbconvert_exporter": "python",
   "pygments_lexer": "ipython3",
   "version": "3.12.5"
  }
 },
 "nbformat": 4,
 "nbformat_minor": 2
}
