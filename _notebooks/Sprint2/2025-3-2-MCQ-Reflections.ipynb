{
 "cells": [
  {
   "cell_type": "markdown",
   "metadata": {},
   "source": [
    "---\n",
    "layout: post \n",
    "title: MCQ Corrections\n",
    "description: MCQ Corrections \n",
    "courses: {csp: {week: 1} }\n",
    "comments: true \n",
    "sticky_rank: 1 \n",
    "---"
   ]
  },
  {
   "cell_type": "markdown",
   "metadata": {},
   "source": [
    "<img src= \"{{site.baseurl}}/images/notebooks/image copy 50.png\">\n",
    "\n",
    "I got this problem wrong mostly due to a conceptual misunderstanding that IPv6 allows for a greater number of IP addresses than IPv4 does, which allows more devices to be connected."
   ]
  },
  {
   "cell_type": "markdown",
   "metadata": {},
   "source": [
    "<img src= \"{{site.baseurl}}/images/notebooks/image copy 51.png\">\n",
    "\n",
    "I got this wrong also because I didn't understand this concept. The correct answer is that the binary list must be sorted for it to work as intended. "
   ]
  },
  {
   "cell_type": "markdown",
   "metadata": {},
   "source": [
    "<img src= \"{{site.baseurl}}/images/notebooks/image copy 52.png\">\n",
    "\n",
    "I got this wrong because I didn't know that n^2 was able to run in reasonable time. For an algorithm to run in reasonable time, it must take a number of steps less than or equal to a polynomial function. Algorithm I accesses elements times (twice for each of n elements), which is considered reasonable time. Algorithm II accesses elements (n times for each of n elements), which is considered reasonable time. Algorithm III accesses 10 elements, which is considered reasonable time."
   ]
  },
  {
   "cell_type": "markdown",
   "metadata": {},
   "source": [
    "<img src= \"{{site.baseurl}}/images/notebooks/image copy 53.png\">\n",
    "\n",
    "The author and title are unnecessary because they are completely independent of the prices, so therefore a and b are the correct answers. "
   ]
  },
  {
   "cell_type": "markdown",
   "metadata": {},
   "source": [
    "<img src= \"{{site.baseurl}}/images/notebooks/image copy 54.png\">\n",
    "\n",
    "This is the correct answer because for this code segment, count is increased to 1 the first time \"maple\" is encountered in the list. However, count is reset to 0 when the code segment moves to the next list element. This causes the procedure to return 0 instead of the intended result 1, and count is increased to 1 the first time \"birch\" is encountered in the list. However, count is reset to 0 when the code segment moves to the next list element. The last time \"birch\" is encountered in the list, count is again increased to 1, causing the procedure to return 1 instead of the intended result 2."
   ]
  }
 ],
 "metadata": {
  "language_info": {
   "name": "python"
  }
 },
 "nbformat": 4,
 "nbformat_minor": 2
}
