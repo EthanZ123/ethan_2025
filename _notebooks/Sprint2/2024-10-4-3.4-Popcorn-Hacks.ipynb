{
 "cells": [
  {
   "cell_type": "markdown",
   "metadata": {},
   "source": [
    "---\n",
    "layout: post \n",
    "title: 3.4 Popcorn Hacks \n",
    "description: Popcorn Hacks\n",
    "courses: {csp: {week: 1} }\n",
    "comments: true \n",
    "sticky_rank: 1 \n",
    "---"
   ]
  },
  {
   "cell_type": "code",
   "execution_count": 1,
   "metadata": {
    "vscode": {
     "languageId": "javascript"
    }
   },
   "outputs": [
    {
     "data": {
      "application/javascript": "\n\nlet favoriteMovie = \"Up\";\nlet favoriteSport = \"soccer\";\nlet petName = \"Leo\";\n\n\n// Concatenation\nlet concatenatedMessage = \"My favorite movie is \" + favoriteMovie + \". I love playing \" + favoriteSport + \" and my pet's name is \" + petName + \".\";\n\n\n// Interpolation\nlet interpolatedMessage = `My favorite movie is ${favoriteMovie}. I love playing ${favoriteSport} and my pet's name is ${petName}.`;\n",
      "text/plain": [
       "<IPython.core.display.Javascript object>"
      ]
     },
     "metadata": {},
     "output_type": "display_data"
    }
   ],
   "source": [
    "%%js\n",
    "\n",
    "\n",
    "let favoriteMovie = \"Up\";\n",
    "let favoriteSport = \"soccer\";\n",
    "let petName = \"Leo\";\n",
    "\n",
    "\n",
    "// Concatenation\n",
    "let concatenatedMessage = \"My favorite movie is \" + favoriteMovie + \". I love playing \" + favoriteSport + \" and my pet's name is \" + petName + \".\";\n",
    "\n",
    "\n",
    "// Interpolation\n",
    "let interpolatedMessage = `My favorite movie is ${favoriteMovie}. I love playing ${favoriteSport} and my pet's name is ${petName}.`;"
   ]
  },
  {
   "cell_type": "code",
   "execution_count": 4,
   "metadata": {
    "vscode": {
     "languageId": "javascript"
    }
   },
   "outputs": [
    {
     "data": {
      "application/javascript": "\n// Define string\nlet phrase = \"Every day is a new beginning, take a deep breath and start again\";\n\n// Extraction\nlet partOne = phrase.slice(5, 8);\nlet partTwo = phrase.slice(-15, -10);\nlet remainder = phrase.slice(21);\n\n// Output\nconsole.log(partOne);  // Output: day\nconsole.log(partTwo);  // Output: breath\nconsole.log(remainder); // Output: take a deep breath and start again\n",
      "text/plain": [
       "<IPython.core.display.Javascript object>"
      ]
     },
     "metadata": {},
     "output_type": "display_data"
    }
   ],
   "source": [
    "%%js\n",
    "\n",
    "// Define string\n",
    "let phrase = \"Every day is a new beginning, take a deep breath and start again\";\n",
    "\n",
    "// Extraction\n",
    "let partOne = phrase.slice(5, 8);\n",
    "let partTwo = phrase.slice(-15, -10);\n",
    "let remainder = phrase.slice(21);\n",
    "\n",
    "// Output\n",
    "console.log(partOne);  // Output: day\n",
    "console.log(partTwo);  // Output: breath\n",
    "console.log(remainder); // Output: take a deep breath and start again\n"
   ]
  },
  {
   "cell_type": "code",
   "execution_count": 6,
   "metadata": {},
   "outputs": [
    {
     "name": "stdout",
     "output_type": "stream",
     "text": [
      "I joy lrig Pyo!\n"
     ]
    }
   ],
   "source": [
    "def remove_vowels(input_str):\n",
    "    vowels = \"ethanETHAN\"\n",
    "    result = ''.join([char for char in input_str if char not in vowels])\n",
    "    return result\n",
    "\n",
    "sentence = \"I enjoy learning Python!\"\n",
    "print(remove_vowels(sentence))\n"
   ]
  },
  {
   "cell_type": "code",
   "execution_count": 8,
   "metadata": {},
   "outputs": [
    {
     "name": "stdout",
     "output_type": "stream",
     "text": [
      "Ethan! is name My\n"
     ]
    }
   ],
   "source": [
    "def reverse_words(input_str):\n",
    "    words = input_str.split()\n",
    "    reversed_words = \" \".join(words[::-1])\n",
    "    return reversed_words\n",
    "\n",
    "sentence = \"My name is Ethan!\"\n",
    "print(reverse_words(sentence))\n"
   ]
  }
 ],
 "metadata": {
  "kernelspec": {
   "display_name": "venv",
   "language": "python",
   "name": "python3"
  },
  "language_info": {
   "codemirror_mode": {
    "name": "ipython",
    "version": 3
   },
   "file_extension": ".py",
   "mimetype": "text/x-python",
   "name": "python",
   "nbconvert_exporter": "python",
   "pygments_lexer": "ipython3",
   "version": "3.12.5"
  }
 },
 "nbformat": 4,
 "nbformat_minor": 2
}
