{
 "cells": [
  {
   "cell_type": "markdown",
   "metadata": {},
   "source": [
    "---\n",
    "layout: post \n",
    "title: 3.1 Popcorn Hacks \n",
    "description: Popcorn Hacks\n",
    "courses: {csp: {week: 1} }\n",
    "comments: true \n",
    "sticky_rank: 1 \n",
    "---"
   ]
  },
  {
   "cell_type": "code",
   "execution_count": 2,
   "metadata": {
    "vscode": {
     "languageId": "javascript"
    }
   },
   "outputs": [
    {
     "data": {
      "application/javascript": "\n\n// Create a dictionary (object) in JavaScript\nvar myDictionary = {\n    1: \"fruit\",\n    2: \"fruit\",\n    3: \"fruit\"\n};\n\n// Accessing a value\nconsole.log(\"Fruit with key 2:\", myDictionary[2]); // Output: fruit\n",
      "text/plain": [
       "<IPython.core.display.Javascript object>"
      ]
     },
     "metadata": {},
     "output_type": "display_data"
    }
   ],
   "source": [
    "%%js\n",
    "\n",
    "\n",
    "// Create a dictionary (object) in JavaScript\n",
    "var myDictionary = {\n",
    "    1: \"fruit\",\n",
    "    2: \"fruit\",\n",
    "    3: \"fruit\"\n",
    "};\n",
    "\n",
    "// Accessing a value\n",
    "console.log(\"Fruit with key 2:\", myDictionary[2]); // Output: fruit"
   ]
  },
  {
   "cell_type": "code",
   "execution_count": 3,
   "metadata": {},
   "outputs": [
    {
     "name": "stdout",
     "output_type": "stream",
     "text": [
      "Correct!\n",
      "Correct!\n",
      "Wrong! The correct answer was -11.\n",
      "Correct!\n",
      "Wrong! The correct answer was 98.\n",
      "Please enter a valid number or 'q' to quit.\n",
      "Please enter a valid number or 'q' to quit.\n",
      "Please enter a valid number or 'q' to quit.\n",
      "Please enter a valid number or 'q' to quit.\n",
      "Please enter a valid number or 'q' to quit.\n",
      "Please enter a valid number or 'q' to quit.\n",
      "Your final score is: 3\n"
     ]
    }
   ],
   "source": [
    "import random\n",
    "\n",
    "def play_game():\n",
    "    score = 0\n",
    "    \n",
    "    while True:\n",
    "        num1 = random.randint(1, 20)\n",
    "        num2 = random.randint(1, 20)\n",
    "        operator = random.choice(['+', '-', '*'])\n",
    "        \n",
    "        if operator == '+':\n",
    "            correct_answer = num1 + num2\n",
    "        elif operator == '-':\n",
    "            correct_answer = num1 - num2\n",
    "        else:  # operator == '*'\n",
    "            correct_answer = num1 * num2\n",
    "        \n",
    "        question = f\"What is {num1} {operator} {num2}? (Type 'q' to quit) \"\n",
    "        player_input = input(question)\n",
    "        \n",
    "        if player_input.lower() == 'q':\n",
    "            break\n",
    "        \n",
    "        try:\n",
    "            player_answer = int(player_input)\n",
    "            if player_answer == correct_answer:\n",
    "                print(\"Correct!\")\n",
    "                score += 1\n",
    "            else:\n",
    "                print(f\"Wrong! The correct answer was {correct_answer}.\")\n",
    "        except ValueError:\n",
    "            print(\"Please enter a valid number or 'q' to quit.\")\n",
    "    \n",
    "    print(f\"Your final score is: {score}\")\n",
    "\n",
    "# Start the game\n",
    "play_game()\n"
   ]
  },
  {
   "cell_type": "code",
   "execution_count": 3,
   "metadata": {
    "vscode": {
     "languageId": "javascript"
    }
   },
   "outputs": [
    {
     "data": {
      "application/javascript": "\n// Temperature Converter in JavaScript\nlet temperature = parseFloat(prompt(\"Enter the temperature:\"));\nlet conversionType = prompt(\"Convert to (C)elsius or (F)ahrenheit?\").toUpperCase();\n\nif (conversionType === \"C\") {\n    // Convert Fahrenheit to Celsius\n    let celsius = (temperature - 32) * (5 / 9);\n    console.log(`${temperature}°F is equal to ${celsius.toFixed(2)}°C`);\n} else if (conversionType === \"F\") {\n    // Convert Celsius to Fahrenheit\n    let fahrenheit = (temperature * (9 / 5)) + 32;\n    console.log(`${temperature}°C is equal to ${fahrenheit.toFixed(2)}°F`);\n} else {\n    console.log(\"Invalid conversion type entered.\");\n}\n",
      "text/plain": [
       "<IPython.core.display.Javascript object>"
      ]
     },
     "metadata": {},
     "output_type": "display_data"
    }
   ],
   "source": [
    "%%js\n",
    "\n",
    "// Temperature Converter in JavaScript\n",
    "let temperature = parseFloat(prompt(\"Enter the temperature:\"));\n",
    "let conversionType = prompt(\"Convert to (C)elsius or (F)ahrenheit?\").toUpperCase();\n",
    "\n",
    "if (conversionType === \"C\") {\n",
    "    // Convert Fahrenheit to Celsius\n",
    "    let celsius = (temperature - 32) * (5 / 9);\n",
    "    console.log(`${temperature}°F is equal to ${celsius.toFixed(2)}°C`);\n",
    "} else if (conversionType === \"F\") {\n",
    "    // Convert Celsius to Fahrenheit\n",
    "    let fahrenheit = (temperature * (9 / 5)) + 32;\n",
    "    console.log(`${temperature}°C is equal to ${fahrenheit.toFixed(2)}°F`);\n",
    "} else {\n",
    "    console.log(\"Invalid conversion type entered.\");\n",
    "}"
   ]
  },
  {
   "cell_type": "code",
   "execution_count": 6,
   "metadata": {},
   "outputs": [],
   "source": [
    "def temperature_converter():\n",
    "    try:\n",
    "        # Prompt the user for the temperature\n",
    "        temperature = float(input(\"Enter the temperature: \"))\n",
    "        \n",
    "        # Ask the user for the conversion type\n",
    "        conversion_type = input(\"Convert to Celsius or Fahrenheit? \").strip().upper()\n",
    "\n",
    "        if conversion_type == \"C\":\n",
    "            pass\n",
    "            # TODO: Convert Fahrenheit to Celsius\n",
    "            # celsius = (temperature - 32) * (5 / 9)\n",
    "            # print(f\"{temperature}°F is equal to {celsius:.2f}°C\")\n",
    "\n",
    "        elif conversion_type == \"F\":\n",
    "            pass\n",
    "            # TODO: Convert Celsius to Fahrenheit\n",
    "            # fahrenheit = (temperature * (9 / 5)) + 32\n",
    "            # print(f\"{temperature}°C is equal to {fahrenheit:.2f}°F\")\n",
    "\n",
    "        else:\n",
    "            print(\"Invalid conversion type entered. Please enter 'C' or 'F'.\")\n",
    "\n",
    "    except ValueError:\n",
    "        print(\"Invalid input. Please enter a numeric temperature value.\")\n",
    "\n",
    "# Call the temperature converter function\n",
    "temperature_converter()\n",
    "\n"
   ]
  }
 ],
 "metadata": {
  "kernelspec": {
   "display_name": "venv",
   "language": "python",
   "name": "python3"
  },
  "language_info": {
   "codemirror_mode": {
    "name": "ipython",
    "version": 3
   },
   "file_extension": ".py",
   "mimetype": "text/x-python",
   "name": "python",
   "nbconvert_exporter": "python",
   "pygments_lexer": "ipython3",
   "version": "3.12.5"
  }
 },
 "nbformat": 4,
 "nbformat_minor": 2
}
