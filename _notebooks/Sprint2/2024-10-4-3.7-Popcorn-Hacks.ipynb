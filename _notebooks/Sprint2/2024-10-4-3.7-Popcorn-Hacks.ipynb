{
 "cells": [
  {
   "cell_type": "markdown",
   "metadata": {},
   "source": [
    "---\n",
    "layout: post \n",
    "title: 3.7 Popcorn Hacks \n",
    "description: Popcorn Hacks\n",
    "courses: {csp: {week: 1} }\n",
    "comments: true \n",
    "sticky_rank: 1 \n",
    "---"
   ]
  },
  {
   "cell_type": "code",
   "execution_count": 1,
   "metadata": {},
   "outputs": [
    {
     "name": "stdout",
     "output_type": "stream",
     "text": [
      "You can have candy.\n"
     ]
    }
   ],
   "source": [
    "age = int(input(\"Enter your age: \"))\n",
    "likes_sweets = input(\"Do you like sweets? (yes/no): \").strip().lower()\n",
    "\n",
    "if age < 18:\n",
    "    if likes_sweets == \"yes\":\n",
    "        print(\"You can have candy.\")\n",
    "    else:\n",
    "        print(\"You can have a healthy snack.\")\n",
    "else:\n",
    "    if likes_sweets == \"yes\":\n",
    "        print(\"You can have a healthy snack.\")\n",
    "    else:\n",
    "        print(\"You get a fruit snack.\")\n"
   ]
  },
  {
   "cell_type": "code",
   "execution_count": 2,
   "metadata": {},
   "outputs": [
    {
     "name": "stdout",
     "output_type": "stream",
     "text": [
      "You can afford the following laptops:\n",
      "- Laptop A ($800)\n",
      "- Laptop C ($600)\n",
      "- Laptop E ($900)\n"
     ]
    }
   ],
   "source": [
    "# List of laptop prices\n",
    "laptops = {\n",
    "    \"Laptop A\": 800,\n",
    "    \"Laptop B\": 1200,\n",
    "    \"Laptop C\": 600,\n",
    "    \"Laptop D\": 1500,\n",
    "    \"Laptop E\": 900\n",
    "}\n",
    "\n",
    "# Prompt user for their savings\n",
    "savings = float(input(\"Enter your savings amount: \"))\n",
    "\n",
    "# Check which laptops the user can afford\n",
    "affordable_laptops = [laptop for laptop, price in laptops.items() if price <= savings]\n",
    "\n",
    "if affordable_laptops:\n",
    "    print(\"You can afford the following laptops:\")\n",
    "    for laptop in affordable_laptops:\n",
    "        print(f\"- {laptop} (${laptops[laptop]})\")\n",
    "else:\n",
    "    print(\"You cannot afford any laptops from the list.\")\n"
   ]
  },
  {
   "cell_type": "code",
   "execution_count": 3,
   "metadata": {
    "vscode": {
     "languageId": "javascript"
    }
   },
   "outputs": [
    {
     "data": {
      "application/javascript": "let age = prompt(\"Enter your age:\");\nlet isCitizen = prompt(\"Are you a citizen? (yes/no)\").toLowerCase() === \"yes\";\n\nif (age >= 18) {\n    if (isCitizen) {\n        console.log(\"You are eligible to vote!\");\n    } else {\n        console.log(\"You must be a citizen to vote.\");\n    }\n} else {\n    console.log(\"You must be at least 18 years old to vote.\");\n}\n",
      "text/plain": [
       "<IPython.core.display.Javascript object>"
      ]
     },
     "metadata": {},
     "output_type": "display_data"
    }
   ],
   "source": [
    "%%js \n",
    "let age = prompt(\"Enter your age:\");\n",
    "let isCitizen = prompt(\"Are you a citizen? (yes/no)\").toLowerCase() === \"yes\";\n",
    "\n",
    "if (age >= 18) {\n",
    "    if (isCitizen) {\n",
    "        console.log(\"You are eligible to vote!\");\n",
    "    } else {\n",
    "        console.log(\"You must be a citizen to vote.\");\n",
    "    }\n",
    "} else {\n",
    "    console.log(\"You must be at least 18 years old to vote.\");\n",
    "}\n"
   ]
  }
 ],
 "metadata": {
  "kernelspec": {
   "display_name": "venv",
   "language": "python",
   "name": "python3"
  },
  "language_info": {
   "codemirror_mode": {
    "name": "ipython",
    "version": 3
   },
   "file_extension": ".py",
   "mimetype": "text/x-python",
   "name": "python",
   "nbconvert_exporter": "python",
   "pygments_lexer": "ipython3",
   "version": "3.12.5"
  }
 },
 "nbformat": 4,
 "nbformat_minor": 2
}
