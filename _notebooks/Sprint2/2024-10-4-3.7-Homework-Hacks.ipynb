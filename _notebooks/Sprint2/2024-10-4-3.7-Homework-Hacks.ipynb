{
 "cells": [
  {
   "cell_type": "markdown",
   "metadata": {},
   "source": [
    "---\n",
    "layout: post \n",
    "title: 3.7 Homework Hacks \n",
    "description: Homework Hacks\n",
    "courses: {csp: {week: 1} }\n",
    "comments: true \n",
    "sticky_rank: 1 \n",
    "---"
   ]
  },
  {
   "cell_type": "code",
   "execution_count": 1,
   "metadata": {
    "vscode": {
     "languageId": "javascript"
    }
   },
   "outputs": [
    {
     "data": {
      "application/javascript": "let age = parseInt(prompt(\"Enter your age:\"));\nlet hasBall = prompt(\"Do you have a ball? (yes/no)\").toLowerCase() === \"yes\";\n\nif (age >= 5 && hasBall) {\n    let group = (age < 8) ? \"under 8\" : \"8 and older\";\n    console.log(\"You can join the game! Your group is: \" + group);\n} else {\n    console.log(\"Sorry, you cannot join the game.\");\n}\n",
      "text/plain": [
       "<IPython.core.display.Javascript object>"
      ]
     },
     "metadata": {},
     "output_type": "display_data"
    }
   ],
   "source": [
    "%%js\n",
    "let age = parseInt(prompt(\"Enter your age:\"));\n",
    "let hasBall = prompt(\"Do you have a ball? (yes/no)\").toLowerCase() === \"yes\";\n",
    "\n",
    "if (age >= 5 && hasBall) {\n",
    "    let group = (age < 8) ? \"under 8\" : \"8 and older\";\n",
    "    console.log(\"You can join the game! Your group is: \" + group);\n",
    "} else {\n",
    "    console.log(\"Sorry, you cannot join the game.\");\n",
    "}\n"
   ]
  }
 ],
 "metadata": {
  "kernelspec": {
   "display_name": "venv",
   "language": "python",
   "name": "python3"
  },
  "language_info": {
   "codemirror_mode": {
    "name": "ipython",
    "version": 3
   },
   "file_extension": ".py",
   "mimetype": "text/x-python",
   "name": "python",
   "nbconvert_exporter": "python",
   "pygments_lexer": "ipython3",
   "version": "3.12.5"
  }
 },
 "nbformat": 4,
 "nbformat_minor": 2
}
