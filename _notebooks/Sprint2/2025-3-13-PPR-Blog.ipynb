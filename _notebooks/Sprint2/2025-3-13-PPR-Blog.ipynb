{
 "cells": [
  {
   "cell_type": "markdown",
   "metadata": {},
   "source": [
    "---\n",
    "layout: post \n",
    "title: PPR Blog\n",
    "description: PPR Blog\n",
    "courses: {csp: {week: 1} }\n",
    "comments: true \n",
    "sticky_rank: 1 \n",
    "---"
   ]
  },
  {
   "cell_type": "markdown",
   "metadata": {},
   "source": [
    "# PPR"
   ]
  },
  {
   "cell_type": "markdown",
   "metadata": {},
   "source": [
    "## PPR Requirements: \n",
    "- A list being created \n",
    "- A list being processed \n",
    "- A function \n",
    "- A call to function "
   ]
  },
  {
   "cell_type": "markdown",
   "metadata": {},
   "source": [
    "## A list being created "
   ]
  },
  {
   "cell_type": "code",
   "execution_count": null,
   "metadata": {
    "vscode": {
     "languageId": "plaintext"
    }
   },
   "outputs": [],
   "source": [
    "def get_leaderships():\n",
    "    \"\"\"\n",
    "    Endpoint to fetch all leadership applications.\n",
    "    \"\"\"\n",
    "    leaderships = Leadership.query.all()\n",
    "    return jsonify([leadership.to_dict() for leadership in leaderships]), 200\n"
   ]
  },
  {
   "cell_type": "markdown",
   "metadata": {},
   "source": [
    "Leadership.query.all() retrieves all leadership records from the database.\n",
    "[leadership.to_dict() for leadership in leaderships] creates a list comprehension, which converts each Leadership object into a dictionary using its to_dict() method.\n",
    "The list of dictionaries is then returned as a JSON response."
   ]
  },
  {
   "cell_type": "markdown",
   "metadata": {},
   "source": [
    "## A list being processed "
   ]
  },
  {
   "cell_type": "code",
   "execution_count": null,
   "metadata": {
    "vscode": {
     "languageId": "plaintext"
    }
   },
   "outputs": [],
   "source": [
    "return jsonify([leadership.to_dict() for leadership in leaderships]), 200"
   ]
  },
  {
   "cell_type": "markdown",
   "metadata": {},
   "source": [
    "The line [leadership.to_dict() for leadership in leaderships] is a list comprehension that iterates over the list of Leadership objects (leaderships).\n",
    "For each leadership object in the list, it calls the to_dict() method, converting it into a dictionary.\n",
    "This processes the list by transforming database objects into a format that can be returned as JSON.\n",
    "Finally, jsonify(...) wraps the processed list and sends it as a response.\n"
   ]
  },
  {
   "cell_type": "markdown",
   "metadata": {},
   "source": [
    "## A function"
   ]
  },
  {
   "cell_type": "code",
   "execution_count": null,
   "metadata": {
    "vscode": {
     "languageId": "plaintext"
    }
   },
   "outputs": [],
   "source": [
    "@leadership_api.route('', methods=['POST'])\n",
    "def create_leadership():\n",
    "    \"\"\"\n",
    "    Endpoint to create a new leadership application.\n",
    "    \"\"\"\n",
    "    data = request.get_json()\n",
    "\n",
    "    # Validating input and defining variables\n",
    "    name = data.get('name')\n",
    "    role = data.get('role')\n",
    "    club = data.get('club')\n",
    "    experience = data.get('experience')\n",
    "\n",
    "    # All information must be filled out\n",
    "    if not name or not role or not club or not experience:\n",
    "        return jsonify({\"error\": \"Missing required fields\"}), 400\n",
    "\n",
    "    # Create a new leadership application\n",
    "    new_leadership = Leadership(name=name, role=role, club=club, experience=experience)\n",
    "    created_leadership = new_leadership.create()\n",
    "\n",
    "    # Ensure no duplicates\n",
    "    if created_leadership:\n",
    "        return jsonify(created_leadership.to_dict()), 201\n",
    "    else:\n",
    "        return jsonify({\"error\": \"Failed to create leadership application. Name might already exist.\"}), 400\n"
   ]
  },
  {
   "cell_type": "markdown",
   "metadata": {},
   "source": [
    "This function handles POST requests to create a new leadership application. It validates input data, ensures all required fields are present, creates a new leadership record, and returns either the created record or an error message."
   ]
  },
  {
   "cell_type": "markdown",
   "metadata": {},
   "source": [
    "## A call to your function"
   ]
  },
  {
   "cell_type": "code",
   "execution_count": null,
   "metadata": {
    "vscode": {
     "languageId": "plaintext"
    }
   },
   "outputs": [],
   "source": [
    "created_leadership = new_leadership.create()"
   ]
  },
  {
   "cell_type": "markdown",
   "metadata": {},
   "source": [
    "This line is inside the create_leadership() function. It calls the create() method on the new_leadership object, which is an instance of the Leadership class. The create() method is likely responsible for saving the new leadership record to the database."
   ]
  }
 ],
 "metadata": {
  "language_info": {
   "name": "python"
  }
 },
 "nbformat": 4,
 "nbformat_minor": 2
}
